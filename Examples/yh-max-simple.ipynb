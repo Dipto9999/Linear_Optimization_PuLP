{
 "cells": [
  {
   "cell_type": "markdown",
   "metadata": {},
   "source": [
    "# Example"
   ]
  },
  {
   "cell_type": "markdown",
   "metadata": {},
   "source": [
    "Most of the following is copied from\n",
    "https://github.com/benalexkeen/Introduction-to-linear-programming/blob/master/Introduction%20to%20Linear%20Programming%20with%20Python%20-%20Part%202.ipynb"
   ]
  },
  {
   "cell_type": "markdown",
   "metadata": {},
   "source": [
    "# LP Problem\n",
    "\n",
    "Maximize  $3 x + 5 y +5$\n",
    "\n",
    "Subject to \n",
    "\n",
    "$2  x + 3 y \\le 12$\n",
    "\n",
    "$-x + y <= 3$\n",
    "\n",
    "$x \\le 4$\n",
    "\n",
    "$y \\le 3$\n",
    " \n",
    "$2  y \\le 25 - x$\n",
    " \n",
    "$4  y \\ge 2  x - 8$\n",
    " \n",
    "$y \\le 2  x - 5$\n",
    "\n",
    "and  $x, y\\ge 0$"
   ]
  },
  {
   "cell_type": "markdown",
   "metadata": {},
   "source": [
    "We import pulp, in the following two cells."
   ]
  },
  {
   "cell_type": "code",
   "execution_count": 1,
   "metadata": {},
   "outputs": [
    {
     "name": "stdout",
     "output_type": "stream",
     "text": [
      "Requirement already satisfied: pulp in c:\\users\\muntakim\\appdata\\local\\programs\\python\\python38-32\\lib\\site-packages (2.4)\n",
      "Requirement already satisfied: amply>=0.1.2 in c:\\users\\muntakim\\appdata\\local\\programs\\python\\python38-32\\lib\\site-packages (from pulp) (0.1.4)\n",
      "Requirement already satisfied: pyparsing in c:\\users\\muntakim\\appdata\\local\\programs\\python\\python38-32\\lib\\site-packages (from amply>=0.1.2->pulp) (2.4.7)\n",
      "Requirement already satisfied: docutils>=0.3 in c:\\users\\muntakim\\appdata\\local\\programs\\python\\python38-32\\lib\\site-packages (from amply>=0.1.2->pulp) (0.17.1)\n"
     ]
    }
   ],
   "source": [
    "import sys\n",
    "!{sys.executable} -m pip install pulp "
   ]
  },
  {
   "cell_type": "code",
   "execution_count": 2,
   "metadata": {},
   "outputs": [],
   "source": [
    "import pulp"
   ]
  },
  {
   "cell_type": "markdown",
   "metadata": {},
   "source": [
    "To use the PuLP package, do the previous steps first before proceeding. \n",
    "\n",
    "After installing PuLP, we can set up our problem to solve. First, we define it. "
   ]
  },
  {
   "cell_type": "code",
   "execution_count": 3,
   "metadata": {},
   "outputs": [],
   "source": [
    "# Create a LP Minimization problem.\n",
    "Lp_prob = pulp.LpProblem('Your_LP_Problem', pulp.LpMaximize)  \n",
    "# We set up the problem using the command LpProblem in the PuLP package. "
   ]
  },
  {
   "cell_type": "markdown",
   "metadata": {},
   "source": [
    "`#` makes the righthand side a commment, which doesn't run as code. \n",
    "\n",
    "pulp.LpProblme <-- pulp is the package, `pulp.LpProblem` means we are using the class `LpProblem` in the pulp package. \n",
    "\n",
    "For minimization problems, use `pulp.LpMinimize`.\n",
    "\n",
    "Here, `Your_LP_Problem` is the name of the problem which shows up when we display the problem. We used `_` as spaces are not permitted in the name. "
   ]
  },
  {
   "cell_type": "code",
   "execution_count": 4,
   "metadata": {},
   "outputs": [],
   "source": [
    "# Create problem decision variables.  \n",
    "\n",
    "# Create a variable x >= 0.  \"x\" means we put `x' when printing this variable. \n",
    "x = pulp.LpVariable(\"x\")   \n",
    "# Create a variable y >= 0.\n",
    "y = pulp.LpVariable(\"y\")   "
   ]
  },
  {
   "cell_type": "markdown",
   "metadata": {},
   "source": [
    "We used the `LpVariable` class.\n",
    "\n",
    "Lower and Upper bounds can be assigned using the 'lowBound' and 'upBound' parameter instead. \n",
    "\n",
    "For example, `x = pulp.LpVariable(\"x\", lowBound = 0)` creates a variable x >= 0 and `y = pulp.LpVariable(\"y\", upBound = 10)` creates a variable y <= 10."
   ]
  },
  {
   "cell_type": "markdown",
   "metadata": {},
   "source": [
    "We now set up our LP problem. "
   ]
  },
  {
   "cell_type": "code",
   "execution_count": 5,
   "metadata": {},
   "outputs": [],
   "source": [
    "# Objective Function \n",
    "Lp_prob += 3 * x + 5 * y +5\n",
    "\n",
    "# We put objective function first then constraints.\n",
    "\n",
    "# Constraints: \n",
    "Lp_prob += 2 * x + 3 * y <= 12\n",
    "Lp_prob += -x + y <= 3\n",
    "Lp_prob += x <= 4\n",
    "Lp_prob += y <= 3\n",
    "Lp_prob += 2 * y <= 25 - x\n",
    "Lp_prob += 4 * y >= 2 * x - 8\n",
    "Lp_prob += y <= 2 * x - 5\n",
    "Lp_prob += x >= 0\n",
    "Lp_prob += y >= 0"
   ]
  },
  {
   "cell_type": "markdown",
   "metadata": {},
   "source": [
    "The objective function and constraints are added using the += operator to our model.\n",
    "The objective function is added first, then the individual constraints."
   ]
  },
  {
   "cell_type": "code",
   "execution_count": 6,
   "metadata": {},
   "outputs": [
    {
     "name": "stdout",
     "output_type": "stream",
     "text": [
      "Your_LP_Problem:\n",
      "MAXIMIZE\n",
      "3*x + 5*y + 5\n",
      "SUBJECT TO\n",
      "_C1: 2 x + 3 y <= 12\n",
      "\n",
      "_C2: - x + y <= 3\n",
      "\n",
      "_C3: x <= 4\n",
      "\n",
      "_C4: y <= 3\n",
      "\n",
      "_C5: x + 2 y <= 25\n",
      "\n",
      "_C6: - 2 x + 4 y >= -8\n",
      "\n",
      "_C7: - 2 x + y <= -5\n",
      "\n",
      "_C8: x >= 0\n",
      "\n",
      "_C9: y >= 0\n",
      "\n",
      "VARIABLES\n",
      "x free Continuous\n",
      "y free Continuous\n",
      "\n"
     ]
    }
   ],
   "source": [
    "# Display the problem \n",
    "print(Lp_prob)"
   ]
  },
  {
   "cell_type": "markdown",
   "metadata": {},
   "source": [
    "You realize that the inequalities are rearranged to put numbers only in the right hand side. "
   ]
  },
  {
   "cell_type": "markdown",
   "metadata": {},
   "source": [
    "We can solve this LP using the `solve` function. `Lp_prob.solve` means apply the `solve` function to the `Lp_prob` object we defined.  "
   ]
  },
  {
   "cell_type": "code",
   "execution_count": 7,
   "metadata": {},
   "outputs": [
    {
     "data": {
      "text/plain": [
       "'Optimal'"
      ]
     },
     "execution_count": 7,
     "metadata": {},
     "output_type": "execute_result"
    }
   ],
   "source": [
    "Lp_prob.solve()\n",
    "pulp.LpStatus[Lp_prob.status]"
   ]
  },
  {
   "cell_type": "markdown",
   "metadata": {},
   "source": [
    "It solved the LP problem and gave the result:\n",
    "There are 5 status codes:\n",
    "\n",
    "- Not Solved: Status prior to solving the problem.\n",
    "- Optimal: An optimal solution has been found.\n",
    "- Infeasible: There are no feasible solutions.\n",
    "- Unbounded: The constraints are not bounded, maximising the solution will tend towards infinity.\n",
    "- Undefined: The optimal solution may exist but may not have been found.\n",
    "\n"
   ]
  },
  {
   "cell_type": "markdown",
   "metadata": {},
   "source": [
    "We can now view our optimal variable values and the optimal value of Z."
   ]
  },
  {
   "cell_type": "code",
   "execution_count": 8,
   "metadata": {},
   "outputs": [
    {
     "name": "stdout",
     "output_type": "stream",
     "text": [
      "x= 3.375 y= 1.75 z= 23.875\n"
     ]
    }
   ],
   "source": [
    "# Printing the final solution \n",
    "print(\"x=\", pulp.value(x), \"y=\", pulp.value(y), \"z=\", pulp.value(Lp_prob.objective))"
   ]
  },
  {
   "cell_type": "markdown",
   "metadata": {},
   "source": [
    "Another way to show the solutions:"
   ]
  },
  {
   "cell_type": "code",
   "execution_count": 9,
   "metadata": {},
   "outputs": [
    {
     "name": "stdout",
     "output_type": "stream",
     "text": [
      "x = 3.375\n",
      "y = 1.75\n",
      "Optimal value is z =  23.875\n"
     ]
    }
   ],
   "source": [
    "for variable in Lp_prob.variables():\n",
    "        print(variable.name, \"=\", variable.varValue)\n",
    "print(\"Optimal value is z = \", pulp.value(Lp_prob.objective))"
   ]
  }
 ],
 "metadata": {
  "kernelspec": {
   "display_name": "Python 3",
   "language": "python",
   "name": "python3"
  },
  "language_info": {
   "codemirror_mode": {
    "name": "ipython",
    "version": 3
   },
   "file_extension": ".py",
   "mimetype": "text/x-python",
   "name": "python",
   "nbconvert_exporter": "python",
   "pygments_lexer": "ipython3",
   "version": "3.8.6"
  },
  "metadata": {
   "interpreter": {
    "hash": "ccbfd18ffe2ed7a304e124dd5c4926bb0ce32d27abc45b5b38cf8edbd938df1a"
   }
  }
 },
 "nbformat": 4,
 "nbformat_minor": 4
}
