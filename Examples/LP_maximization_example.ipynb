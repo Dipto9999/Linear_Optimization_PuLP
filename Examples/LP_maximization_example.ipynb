{
 "cells": [
  {
   "cell_type": "code",
   "execution_count": 1,
   "metadata": {},
   "outputs": [
    {
     "name": "stdout",
     "output_type": "stream",
     "text": [
      "Requirement already satisfied: pulp in c:\\users\\muntakim\\appdata\\local\\programs\\python\\python38-32\\lib\\site-packages (2.4)\n",
      "Requirement already satisfied: amply>=0.1.2 in c:\\users\\muntakim\\appdata\\local\\programs\\python\\python38-32\\lib\\site-packages (from pulp) (0.1.4)\n",
      "Requirement already satisfied: pyparsing in c:\\users\\muntakim\\appdata\\local\\programs\\python\\python38-32\\lib\\site-packages (from amply>=0.1.2->pulp) (2.4.7)\n",
      "Requirement already satisfied: docutils>=0.3 in c:\\users\\muntakim\\appdata\\local\\programs\\python\\python38-32\\lib\\site-packages (from amply>=0.1.2->pulp) (0.17.1)\n"
     ]
    }
   ],
   "source": [
    "import sys\n",
    "!{sys.executable} -m pip install pulp"
   ]
  },
  {
   "cell_type": "code",
   "execution_count": 2,
   "metadata": {},
   "outputs": [],
   "source": [
    "import pulp"
   ]
  },
  {
   "cell_type": "code",
   "execution_count": 3,
   "metadata": {},
   "outputs": [],
   "source": [
    "# Create a LP maximization problem.\n",
    "LP_prob = pulp.LpProblem('Your_LP_Problem', pulp.LpMaximize)"
   ]
  },
  {
   "cell_type": "code",
   "execution_count": 4,
   "metadata": {},
   "outputs": [],
   "source": [
    "# Create Decision Variables.\n",
    "x = pulp.LpVariable('x')\n",
    "y = pulp.LpVariable('y')"
   ]
  },
  {
   "cell_type": "code",
   "execution_count": 5,
   "metadata": {},
   "outputs": [],
   "source": [
    "# Add Objective Function to LP problem.\n",
    "LP_prob += 3*x+5*y+5\n",
    "\n",
    "# Then add Constraints.\n",
    "LP_prob += 2*x+3*y <= 12\n",
    "LP_prob += -x+y <= 3\n",
    "LP_prob += x <= 4\n",
    "LP_prob += y <= 3\n",
    "LP_prob += 2*y <= 25-x\n",
    "LP_prob += 4*y >= 2*x-8\n",
    "LP_prob += y <= 2*x-5\n",
    "LP_prob += x >= 0\n",
    "LP_prob += y >= 0"
   ]
  },
  {
   "cell_type": "code",
   "execution_count": 6,
   "metadata": {},
   "outputs": [
    {
     "name": "stdout",
     "output_type": "stream",
     "text": [
      "Your_LP_Problem:\n",
      "MAXIMIZE\n",
      "3*x + 5*y + 5\n",
      "SUBJECT TO\n",
      "_C1: 2 x + 3 y <= 12\n",
      "\n",
      "_C2: - x + y <= 3\n",
      "\n",
      "_C3: x <= 4\n",
      "\n",
      "_C4: y <= 3\n",
      "\n",
      "_C5: x + 2 y <= 25\n",
      "\n",
      "_C6: - 2 x + 4 y >= -8\n",
      "\n",
      "_C7: - 2 x + y <= -5\n",
      "\n",
      "_C8: x >= 0\n",
      "\n",
      "_C9: y >= 0\n",
      "\n",
      "VARIABLES\n",
      "x free Continuous\n",
      "y free Continuous\n",
      "\n"
     ]
    }
   ],
   "source": [
    "# Display the LP problem.\n",
    "print(LP_prob)"
   ]
  },
  {
   "cell_type": "code",
   "execution_count": 7,
   "metadata": {},
   "outputs": [
    {
     "data": {
      "text/plain": [
       "'Optimal'"
      ]
     },
     "execution_count": 7,
     "metadata": {},
     "output_type": "execute_result"
    }
   ],
   "source": [
    "LP_prob.solve()\n",
    "pulp.LpStatus[LP_prob.status]"
   ]
  },
  {
   "cell_type": "code",
   "execution_count": 8,
   "metadata": {},
   "outputs": [
    {
     "name": "stdout",
     "output_type": "stream",
     "text": [
      "x =  3.375\n",
      "y =  1.75\n",
      "z =  23.875\n"
     ]
    }
   ],
   "source": [
    "print(\"x = \", pulp.value(x))\n",
    "print(\"y = \", pulp.value(y))\n",
    "print(\"z = \", pulp.value(LP_prob.objective))"
   ]
  },
  {
   "cell_type": "code",
   "execution_count": 9,
   "metadata": {},
   "outputs": [
    {
     "name": "stdout",
     "output_type": "stream",
     "text": [
      "x  =  3.375\n",
      "y  =  1.75\n",
      "Optimal Value : z =  23.875\n"
     ]
    }
   ],
   "source": [
    "for variable in LP_prob.variables() :\n",
    "    print(variable.name, \" = \", variable.varValue)\n",
    "if (pulp.LpStatus[LP_prob.status] == 'Optimal') :\n",
    "    print('Optimal Value : z = ', pulp.value(LP_prob.objective))\n",
    "else :\n",
    "    print('No Optimal Value. Status Code : ', pulp.value(LP_prob.objective))"
   ]
  }
 ],
 "metadata": {
  "kernelspec": {
   "display_name": "Python 3",
   "language": "python",
   "name": "python3"
  },
  "language_info": {
   "codemirror_mode": {
    "name": "ipython",
    "version": 3
   },
   "file_extension": ".py",
   "mimetype": "text/x-python",
   "name": "python",
   "nbconvert_exporter": "python",
   "pygments_lexer": "ipython3",
   "version": "3.8.6"
  }
 },
 "nbformat": 4,
 "nbformat_minor": 4
}
