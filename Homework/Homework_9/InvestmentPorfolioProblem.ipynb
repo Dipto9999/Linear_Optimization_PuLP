{
 "cells": [
  {
   "cell_type": "markdown",
   "metadata": {},
   "source": [
    "# Homework 9 (Question 2)"
   ]
  },
  {
   "cell_type": "code",
   "execution_count": 1,
   "metadata": {},
   "outputs": [
    {
     "name": "stdout",
     "output_type": "stream",
     "text": [
      "Requirement already satisfied: pulp in c:\\users\\muntakim\\appdata\\local\\programs\\python\\python38-32\\lib\\site-packages (2.4)\n",
      "Requirement already satisfied: amply>=0.1.2 in c:\\users\\muntakim\\appdata\\local\\programs\\python\\python38-32\\lib\\site-packages (from pulp) (0.1.4)\n",
      "Requirement already satisfied: pyparsing in c:\\users\\muntakim\\appdata\\local\\programs\\python\\python38-32\\lib\\site-packages (from amply>=0.1.2->pulp) (2.4.7)\n",
      "Requirement already satisfied: docutils>=0.3 in c:\\users\\muntakim\\appdata\\local\\programs\\python\\python38-32\\lib\\site-packages (from amply>=0.1.2->pulp) (0.17.1)\n"
     ]
    }
   ],
   "source": [
    "import sys\n",
    "!{sys.executable} -m pip install pulp "
   ]
  },
  {
   "cell_type": "code",
   "execution_count": 2,
   "metadata": {},
   "outputs": [],
   "source": [
    "import pulp\n",
    "from pulp import *"
   ]
  },
  {
   "cell_type": "code",
   "execution_count": 3,
   "metadata": {},
   "outputs": [],
   "source": [
    "import csv"
   ]
  },
  {
   "cell_type": "code",
   "execution_count": 4,
   "metadata": {},
   "outputs": [
    {
     "data": {
      "text/plain": [
       "'\\nInvestment Portfolio Problem\\n\\nAuthor : Muntakim Rahman 2021\\n'"
      ]
     },
     "execution_count": 4,
     "metadata": {},
     "output_type": "execute_result"
    }
   ],
   "source": [
    "\"\"\"\n",
    "Investment Portfolio Problem\n",
    "\n",
    "Author : Muntakim Rahman 2021\n",
    "\"\"\""
   ]
  },
  {
   "cell_type": "markdown",
   "metadata": {},
   "source": [
    "## Textbook Problem\n",
    "\n",
    "<img src = \"Homework_9_Question_2.JPG\" alt = \"Question 2 Problem Description\" height = \"400\" width = \"500\"/>"
   ]
  },
  {
   "cell_type": "markdown",
   "metadata": {},
   "source": [
    "## Portfolio Selection\n",
    "\n",
    "Let $R_{j}(t)$ denote the return on investment $j$ over $T$ monthly periods.\n",
    "\n",
    "\\begin{equation}\n",
    "    R = \\sum_j x_j R_j \\quad \\dots (1)\n",
    "\\end{equation}\n",
    "\n",
    "Calculate the expected return (i.e. reward) with the formula :\n",
    "\n",
    "\\begin{equation}\n",
    "    ER = \\sum_j x_j E R_j \\quad \\dots (2)\n",
    "        \\quad From \\hspace{1mm} (1) \\\\\n",
    "\\end{equation}\n",
    "\n",
    "For our purposes, assume that $R_j(t)$ is a random variable where values $t = 1 \\dots T$ are taken with equal probability. \n",
    "\n",
    "\\begin{equation}\n",
    "    \\begin{aligned}\n",
    "        ER_j  &= \\frac{1}{T} \\sum_{t=1}^T R_j(t) \\quad \\dots (3) \\\\\n",
    "    \\end{aligned}\n",
    "\\end{equation}\n",
    "\n",
    "\n",
    "Let the mean absolute deviation from the mean ($MAD$) represent the risk associated with a portfolio of investments.\n",
    "\n",
    "For our purposes, the ($MAD$) is calculated as :\n",
    "\n",
    "\\begin{equation}\n",
    "    \\begin{aligned}\n",
    "        E {\\left\\lvert{R-ER}\\right\\rvert} & = E \\left\\lvert{\\sum_j x_j R_j - \\sum_j x_j E R_j}\\right\\rvert \n",
    "                                            \\quad From \\hspace{1mm} (1) \\hspace{1mm} \\& \\hspace{1mm} (2) \\\\\n",
    "                                          & = E \\left\\lvert{\\sum_j x_j (R_j - E R_j)}\\right\\rvert \\\\\n",
    "                                          & = \\frac{1}{T} \\sum_{t=1}^T \n",
    "                                            \\left\\lvert{\\sum_j x_j \\bigg[\n",
    "                                                R_j(t) - \\frac{1}{T} \\sum_{t=1}^T R_j(t)\n",
    "                                            \\bigg]}\\right\\rvert \\quad \\dots (4) \\quad From \\hspace{1mm} (3) \\\\\n",
    "    \\end{aligned}\n",
    "\\end{equation}\n",
    "\n",
    "### Linear Programming Problem\n",
    "\n",
    "The LP Problem takes the positive risk/return parameter $\\mu$ into account to form a linear combination between the risk and reward, as shown below.\n",
    "\n",
    "\\begin{align*}\n",
    "    \\begin{aligned}\n",
    "        {\\rm Maximize} & \\quad \\mu \\hspace{1mm} ER - E {\\left\\lvert{R-ER}\\right\\rvert} \\\\\n",
    "                       & = \\mu \\hspace{1mm} \\sum_j x_j E R_j - \\frac{1}{T} \\sum_{t=1}^T \n",
    "                            \\left\\lvert{\\sum_j x_j \\bigg[\n",
    "                                R_j(t) - \\frac{1}{T} \\sum_{t=1}^T R_j(t)\n",
    "                            \\bigg]}\\right\\rvert \\quad From \\hspace{1mm} (2) \\hspace{1mm} \\& \\hspace{1mm} (4) \\\\\n",
    "                       & = \\frac{\\mu}{T} \\hspace{1mm} \\sum_{t=1}^T \\sum_j x_j R_j(t) \n",
    "                            - \\frac{1}{T} \\sum_{t=1}^T \n",
    "                            \\left\\lvert{\\sum_j x_j \\bigg[\n",
    "                                R_j(t) - \\frac{1}{T} \\sum_{t=1}^T R_j(t)\n",
    "                            \\bigg]}\\right\\rvert \\quad From \\hspace{1mm} (3) \\\\\n",
    "                       & = \\frac{\\mu}{T} \\hspace{1mm} \\sum_{t=1}^T \\sum_j x_j R_j(t) \n",
    "                            - \\frac{1}{T} \\sum_{t=1}^T y_t \n",
    "                            \\qquad Where \\hspace{1mm} y_t =\n",
    "                            \\left\\lvert{\\sum_j x_j \\bigg[\n",
    "                                R_j(t) - \\frac{1}{T} \\sum_{t=1}^T R_j(t)\n",
    "                             \\bigg]}\\right\\rvert \\\\\n",
    "    \\end{aligned}\n",
    "\\end{align*}\n",
    "\n",
    "\\begin{align*}\n",
    "    {\\rm Subject \\hspace{1mm} to} \n",
    "        \\quad -y_t \\leq \\sum_j x_j \\bigg[ R_j(t) - \\frac{1}{T} \\sum_{t=1}^T R_j(t) \\bigg] \\leq y_t \\\\ \n",
    "        Which \\hspace{1mm} can \\hspace{1mm} also \\hspace{1mm} be \\hspace{1mm} written \\hspace{1mm} as : \\\\\n",
    "        y_t \\geq +\\sum_j x_j \\bigg[ R_j(t) - \\frac{1}{T} \\sum_{t=1}^T R_j(t) \\bigg],  \n",
    "              \\quad  y_t \\geq -\\sum_j x_j \\bigg[ R_j(t) - \\frac{1}{T} \\sum_{t=1}^T R_j(t) \\bigg] \\\\\n",
    "        x_j \\geq 0 \\quad j = 1 \\dots n, \n",
    "            \\quad y_t \\geq 0 \\quad t = 1 \\dots T \\\\\n",
    "        \\quad \\sum_j x_j = 1, \\\\ \n",
    "\\end{align*}\n",
    "\n",
    "\n",
    "At high value, $\\mu$ maximizes reward regardless of risk. At low values, risk is minimized. "
   ]
  },
  {
   "cell_type": "markdown",
   "metadata": {},
   "source": [
    "## Import Data From CSV File"
   ]
  },
  {
   "cell_type": "code",
   "execution_count": 5,
   "metadata": {},
   "outputs": [
    {
     "name": "stdout",
     "output_type": "stream",
     "text": [
      "{'VAB': {}, 'VCN': {}, 'VXC': {}, 'VBAL': {}}\n"
     ]
    }
   ],
   "source": [
    "dates = [] \n",
    "investments = ['VAB', 'VCN', 'VXC', 'VBAL']\n",
    "\n",
    "prices = {}\n",
    "for j in range(len(investments)) :\n",
    "    prices[investments[j]] = {}\n",
    "\n",
    "## Print Prices Dictionary -> Mainly for Debugging Purposes.\n",
    "print(prices)"
   ]
  },
  {
   "cell_type": "code",
   "execution_count": 6,
   "metadata": {},
   "outputs": [
    {
     "name": "stdout",
     "output_type": "stream",
     "text": [
      "Columns Are \n",
      "['Date', 'Vanguard Canadian Aggregate Bond Index ETF (VAB)', 'Vanguard FTSE Canada All Cap Index ETF (VCN)', 'Vanguard FTSE Global All Cap ex Canada Index ETF (VXC) ', 'Vanguard Balanced ETF Portfolio (VBAL)']\n",
      "\n",
      "\n",
      "Dates : \n",
      "['2020-04-01', '2020-05-01', '2020-06-01', '2020-07-01', '2020-08-01', '2020-09-01', '2020-10-01', '2020-11-01', '2020-12-01', '2021-01-01', '2021-02-01', '2021-03-01']\n",
      "\n",
      "Prices :\n",
      "Investment : VAB\n",
      "Price : \n",
      "{'2020-04-01': 25.73, '2020-05-01': 27.08, '2020-06-01': 27.06, '2020-07-01': 27.43, '2020-08-01': 27.82, '2020-09-01': 27.38, '2020-10-01': 27.35, '2020-11-01': 27.19, '2020-12-01': 27.34, '2021-01-01': 27.34, '2021-02-01': 26.94, '2021-03-01': 26.13}\n",
      "\n",
      "Investment : VCN\n",
      "Price : \n",
      "{'2020-04-01': 26.05, '2020-05-01': 29.41, '2020-06-01': 30.74, '2020-07-01': 31.54, '2020-08-01': 32.75, '2020-09-01': 33.36, '2020-10-01': 32.41, '2020-11-01': 31.49, '2020-12-01': 35.09, '2021-01-01': 35.32, '2021-02-01': 35.3, '2021-03-01': 36.92}\n",
      "\n",
      "Investment : VXC\n",
      "Price : \n",
      "{'2020-04-01': 32.93, '2020-05-01': 36.56, '2020-06-01': 38.49, '2020-07-01': 39.56, '2020-08-01': 40.42, '2020-09-01': 41.68, '2020-10-01': 41.22, '2020-11-01': 40.58, '2020-12-01': 44.22, '2021-01-01': 45.45, '2021-02-01': 45.51, '2021-03-01': 46.42}\n",
      "\n",
      "Investment : VBAL\n",
      "Price : \n",
      "{'2020-04-01': 23.24, '2020-05-01': 25.2, '2020-06-01': 25.97, '2020-07-01': 26.46, '2020-08-01': 27.11, '2020-09-01': 27.4, '2020-10-01': 27.14, '2020-11-01': 26.74, '2020-12-01': 28.45, '2021-01-01': 28.74, '2021-02-01': 28.78, '2021-03-01': 28.95}\n",
      "\n",
      "Calculated T Value : 11\n",
      "\n"
     ]
    }
   ],
   "source": [
    "with open('HW9P2.csv') as historical_prices :\n",
    "    csv_reader = csv.reader(historical_prices, delimiter = ',')\n",
    "    line_count = 0\n",
    "    column_names = []\n",
    "\n",
    "    row_count = 0\n",
    "    for row_contents in csv_reader :     \n",
    "        if (row_count == 0) :\n",
    "            for column_contents in row_contents :\n",
    "                column_names.append(str(column_contents))\n",
    "        else :\n",
    "            # Column Count should be Equal to Total Number of Investments.\n",
    "            n = 0 \n",
    "            for column_contents in row_contents :\n",
    "                if (n == 0) :\n",
    "                    current_date = str(column_contents)\n",
    "                    dates.append(current_date)\n",
    "                else :\n",
    "                    j = investments[n - 1]\n",
    "                    prices[j][current_date] = float(column_contents)\n",
    "                \n",
    "                n += 1\n",
    "        row_count += 1\n",
    "    \n",
    "    # Number of Monthly Intervals in Which Returns are Calculated.\n",
    "    T = row_count - 2\n",
    "\n",
    "## Print CSV File Data to Screen -> Mainly for Debugging Purposes.\n",
    "print(f'Columns Are \\n{column_names}\\n\\n')\n",
    "\n",
    "print(f'Dates : \\n{dates}\\n')\n",
    "\n",
    "print('Prices :')\n",
    "for j, price in prices.items() :\n",
    "    print(f'Investment : {j}')\n",
    "    print(f'Price : \\n{price}\\n')\n",
    "\n",
    "print(f'Calculated T Value : {T}\\n')"
   ]
  },
  {
   "cell_type": "code",
   "execution_count": 7,
   "metadata": {},
   "outputs": [
    {
     "name": "stdout",
     "output_type": "stream",
     "text": [
      "Returns Before Assignment : \n",
      "{'VAB': {}}\n",
      "\n",
      "Returns for Investment VAB : \n",
      "{1: 1.0524679362611737, 2: 0.999261447562777, 3: 1.0136733185513673, 4: 1.014218009478673, 5: 0.9841840402588066, 6: 0.9989043097151206, 7: 0.9941499085923218, 8: 1.0055167340934166, 9: 1.0, 10: 0.9853694220921727, 11: 0.9699331848552337}\n",
      "\n",
      "Returns Before Assignment : \n",
      "{'VAB': {1: 1.0524679362611737, 2: 0.999261447562777, 3: 1.0136733185513673, 4: 1.014218009478673, 5: 0.9841840402588066, 6: 0.9989043097151206, 7: 0.9941499085923218, 8: 1.0055167340934166, 9: 1.0, 10: 0.9853694220921727, 11: 0.9699331848552337}, 'VCN': {}}\n",
      "\n",
      "Returns for Investment VCN : \n",
      "{1: 1.128982725527831, 2: 1.0452227133628018, 3: 1.026024723487313, 4: 1.0383639822447686, 5: 1.0186259541984732, 6: 0.9715227817745803, 7: 0.9716136994754706, 8: 1.114322006986345, 9: 1.0065545739526929, 10: 0.9994337485843714, 11: 1.0458923512747877}\n",
      "\n",
      "Returns Before Assignment : \n",
      "{'VAB': {1: 1.0524679362611737, 2: 0.999261447562777, 3: 1.0136733185513673, 4: 1.014218009478673, 5: 0.9841840402588066, 6: 0.9989043097151206, 7: 0.9941499085923218, 8: 1.0055167340934166, 9: 1.0, 10: 0.9853694220921727, 11: 0.9699331848552337}, 'VCN': {1: 1.128982725527831, 2: 1.0452227133628018, 3: 1.026024723487313, 4: 1.0383639822447686, 5: 1.0186259541984732, 6: 0.9715227817745803, 7: 0.9716136994754706, 8: 1.114322006986345, 9: 1.0065545739526929, 10: 0.9994337485843714, 11: 1.0458923512747877}, 'VXC': {}}\n",
      "\n",
      "Returns for Investment VXC : \n",
      "{1: 1.110233829334953, 2: 1.0527899343544858, 3: 1.027799428422967, 4: 1.0217391304347825, 5: 1.0311726867887183, 6: 0.9889635316698656, 7: 0.9844735565259582, 8: 1.0896993592902908, 9: 1.0278154681139757, 10: 1.0013201320132012, 11: 1.0199956053614592}\n",
      "\n",
      "Returns Before Assignment : \n",
      "{'VAB': {1: 1.0524679362611737, 2: 0.999261447562777, 3: 1.0136733185513673, 4: 1.014218009478673, 5: 0.9841840402588066, 6: 0.9989043097151206, 7: 0.9941499085923218, 8: 1.0055167340934166, 9: 1.0, 10: 0.9853694220921727, 11: 0.9699331848552337}, 'VCN': {1: 1.128982725527831, 2: 1.0452227133628018, 3: 1.026024723487313, 4: 1.0383639822447686, 5: 1.0186259541984732, 6: 0.9715227817745803, 7: 0.9716136994754706, 8: 1.114322006986345, 9: 1.0065545739526929, 10: 0.9994337485843714, 11: 1.0458923512747877}, 'VXC': {1: 1.110233829334953, 2: 1.0527899343544858, 3: 1.027799428422967, 4: 1.0217391304347825, 5: 1.0311726867887183, 6: 0.9889635316698656, 7: 0.9844735565259582, 8: 1.0896993592902908, 9: 1.0278154681139757, 10: 1.0013201320132012, 11: 1.0199956053614592}, 'VBAL': {}}\n",
      "\n",
      "Returns for Investment VBAL : \n",
      "{1: 1.0843373493975903, 2: 1.0305555555555554, 3: 1.0188679245283019, 4: 1.0245653817082387, 5: 1.0106971597196606, 6: 0.9905109489051096, 7: 0.985261606484893, 8: 1.0639491398653702, 9: 1.0101933216168717, 10: 1.001391788448156, 11: 1.0059068797776234}\n",
      "\n"
     ]
    }
   ],
   "source": [
    "# Calculate Monthly Returns\n",
    "returns = {}\n",
    "\n",
    "for j in investments :\n",
    "    returns[j] = {}\n",
    "\n",
    "    ## Print Returns Dictionary -> Mainly for Debugging Purposes.\n",
    "    print(f'Returns Before Assignment : \\n{returns}\\n')\n",
    "\n",
    "    for t in range(1, T + 1) :\n",
    "        returns[j][t] = prices[j][dates[t]] / prices[j][(dates[t - 1])]\n",
    "\n",
    "    ## Print Returns for Investment -> Mainly for Debugging Purposes.\n",
    "    print(f'Returns for Investment {j} : \\n{returns[j]}\\n')"
   ]
  },
  {
   "cell_type": "code",
   "execution_count": 8,
   "metadata": {},
   "outputs": [
    {
     "name": "stdout",
     "output_type": "stream",
     "text": [
      "Mean Returns for Investment VAB : 1.0016071192237332\n",
      "\n",
      "Mean Returns for Investment VCN : 1.0333235691699487\n",
      "\n",
      "Mean Returns for Investment VXC : 1.032363878391878\n",
      "\n",
      "Mean Returns for Investment VBAL : 1.0205670050915792\n",
      "\n"
     ]
    }
   ],
   "source": [
    "# Calculate Mean Monthly Returns\n",
    "mean_returns = {}\n",
    "\n",
    "for j in investments : \n",
    "    \n",
    "    mean_returns[j] = 0\n",
    "    for t in range(1, T + 1) :\n",
    "        mean_returns[j] += returns[j][t]\n",
    "    mean_returns[j] /= T\n",
    "\n",
    "    ## Print Mean Returns for Investment -> Mainly for Debugging Purposes.\n",
    "    print(f'Mean Returns for Investment {j} : {mean_returns[j]}\\n')"
   ]
  },
  {
   "cell_type": "markdown",
   "metadata": {},
   "source": [
    "## Solve LP Problem"
   ]
  },
  {
   "cell_type": "code",
   "execution_count": 9,
   "metadata": {},
   "outputs": [
    {
     "name": "stdout",
     "output_type": "stream",
     "text": [
      "Investment Decision Variables : {'VAB': x_VAB, 'VCN': x_VCN, 'VXC': x_VXC, 'VBAL': x_VBAL}\n",
      "Deviation Decision Variables : {1: y_1, 2: y_2, 3: y_3, 4: y_4, 5: y_5, 6: y_6, 7: y_7, 8: y_8, 9: y_9, 10: y_10, 11: y_11}\n"
     ]
    }
   ],
   "source": [
    "LP_Prob = LpProblem(name = 'Investment_Portfolio_Problem', sense = LpMaximize)\n",
    "\n",
    "decision_variables_investment = {}\n",
    "for j in range(len(investments)) :\n",
    "    decision_variables_investment[investments[j]] = LpVariable(name = 'x_' + str(investments[j]), lowBound = 0)\n",
    "\n",
    "decision_variables_deviation = {}\n",
    "for t in range(1, T + 1) :\n",
    "    decision_variables_deviation[t] = LpVariable(name = 'y_' + str(t), lowBound = 0)\n",
    "\n",
    "    LP_Prob += decision_variables_deviation[t] >= 0, f'Low_Bound_Deviation_{t}'\n",
    "\n",
    "for j in investments :\n",
    "    LP_Prob += decision_variables_investment[j] >= 0, f'Low_Bound_Investment_{j}'\n",
    "\n",
    "# Print Decision Variables -> Mainly for Debugging Purposes.\n",
    "print(f'Investment Decision Variables : {decision_variables_investment}')\n",
    "print(f'Deviation Decision Variables : {decision_variables_deviation}')"
   ]
  },
  {
   "cell_type": "markdown",
   "metadata": {},
   "source": [
    "### Risk/Return Parameter of 1"
   ]
  },
  {
   "cell_type": "code",
   "execution_count": 10,
   "metadata": {},
   "outputs": [],
   "source": [
    "mu = 1\n",
    "\n",
    "expected_investment_returns = lpSum([mu * mean_returns[j] * decision_variables_investment[j] for j in investments]) \n",
    "monthly_deviation = lpSum([decision_variables_deviation[t] for t in range(1, T + 1)])/T\n",
    "\n",
    "# The Objective Function is Added to 'LP_Prob' First.\n",
    "LP_Prob += expected_investment_returns - monthly_deviation, 'Maximize_Portfolio_Returns'"
   ]
  },
  {
   "cell_type": "code",
   "execution_count": 11,
   "metadata": {},
   "outputs": [],
   "source": [
    "# The Constraints are Added to 'LP_Prob'\n",
    "for t in range(1, T + 1) :\n",
    "    monthly_deviation = lpSum([(returns[j][t] - mean_returns[j]) * decision_variables_investment[j] for j in investments]) \n",
    "    LP_Prob += decision_variables_deviation[t] >= -monthly_deviation, f'Deviation_Investment_Negative_Relation_{t}'\n",
    "    LP_Prob += decision_variables_deviation[t] >= monthly_deviation, f'Deviation_Investment_Positive_Relation_{t}'\n",
    "\n",
    "LP_Prob += lpSum([decision_variables_investment[j] for j in investments]) == 1, 'Probability_Simplex'"
   ]
  },
  {
   "cell_type": "code",
   "execution_count": 12,
   "metadata": {},
   "outputs": [
    {
     "name": "stdout",
     "output_type": "stream",
     "text": [
      "Investment_Portfolio_Problem:\n",
      "MAXIMIZE\n",
      "1.0016071192237332*x_VAB + 1.0205670050915792*x_VBAL + 1.0333235691699487*x_VCN + 1.032363878391878*x_VXC + -0.09090909090909091*y_1 + -0.09090909090909091*y_10 + -0.09090909090909091*y_11 + -0.09090909090909091*y_2 + -0.09090909090909091*y_3 + -0.09090909090909091*y_4 + -0.09090909090909091*y_5 + -0.09090909090909091*y_6 + -0.09090909090909091*y_7 + -0.09090909090909091*y_8 + -0.09090909090909091*y_9 + 0.0\n",
      "SUBJECT TO\n",
      "Low_Bound_Deviation_1: y_1 >= 0\n",
      "\n",
      "Low_Bound_Deviation_2: y_2 >= 0\n",
      "\n",
      "Low_Bound_Deviation_3: y_3 >= 0\n",
      "\n",
      "Low_Bound_Deviation_4: y_4 >= 0\n",
      "\n",
      "Low_Bound_Deviation_5: y_5 >= 0\n",
      "\n",
      "Low_Bound_Deviation_6: y_6 >= 0\n",
      "\n",
      "Low_Bound_Deviation_7: y_7 >= 0\n",
      "\n",
      "Low_Bound_Deviation_8: y_8 >= 0\n",
      "\n",
      "Low_Bound_Deviation_9: y_9 >= 0\n",
      "\n",
      "Low_Bound_Deviation_10: y_10 >= 0\n",
      "\n",
      "Low_Bound_Deviation_11: y_11 >= 0\n",
      "\n",
      "Low_Bound_Investment_VAB: x_VAB >= 0\n",
      "\n",
      "Low_Bound_Investment_VCN: x_VCN >= 0\n",
      "\n",
      "Low_Bound_Investment_VXC: x_VXC >= 0\n",
      "\n",
      "Low_Bound_Investment_VBAL: x_VBAL >= 0\n",
      "\n",
      "Deviation_Investment_Negative_Relation_1: 0.0508608170374 x_VAB\n",
      " + 0.063770344306 x_VBAL + 0.0956591563579 x_VCN + 0.0778699509431 x_VXC + y_1\n",
      " >= 0\n",
      "\n",
      "Deviation_Investment_Positive_Relation_1: - 0.0508608170374 x_VAB\n",
      " - 0.063770344306 x_VBAL - 0.0956591563579 x_VCN - 0.0778699509431 x_VXC + y_1\n",
      " >= 0\n",
      "\n",
      "Deviation_Investment_Negative_Relation_2: - 0.00234567166096 x_VAB\n",
      " + 0.00998855046398 x_VBAL + 0.0118991441929 x_VCN + 0.0204260559626 x_VXC\n",
      " + y_2 >= 0\n",
      "\n",
      "Deviation_Investment_Positive_Relation_2: 0.00234567166096 x_VAB\n",
      " - 0.00998855046398 x_VBAL - 0.0118991441929 x_VCN - 0.0204260559626 x_VXC\n",
      " + y_2 >= 0\n",
      "\n",
      "Deviation_Investment_Negative_Relation_3: 0.0120661993276 x_VAB\n",
      " - 0.00169908056328 x_VBAL - 0.00729884568264 x_VCN - 0.00456444996891 x_VXC\n",
      " + y_3 >= 0\n",
      "\n",
      "Deviation_Investment_Positive_Relation_3: - 0.0120661993276 x_VAB\n",
      " + 0.00169908056328 x_VBAL + 0.00729884568264 x_VCN + 0.00456444996891 x_VXC\n",
      " + y_3 >= 0\n",
      "\n",
      "Deviation_Investment_Negative_Relation_4: 0.0126108902549 x_VAB\n",
      " + 0.00399837661666 x_VBAL + 0.00504041307482 x_VCN - 0.0106247479571 x_VXC\n",
      " + y_4 >= 0\n",
      "\n",
      "Deviation_Investment_Positive_Relation_4: - 0.0126108902549 x_VAB\n",
      " - 0.00399837661666 x_VBAL - 0.00504041307482 x_VCN + 0.0106247479571 x_VXC\n",
      " + y_4 >= 0\n",
      "\n",
      "Deviation_Investment_Negative_Relation_5: - 0.0174230789649 x_VAB\n",
      " - 0.00986984537192 x_VBAL - 0.0146976149715 x_VCN - 0.00119119160316 x_VXC\n",
      " + y_5 >= 0\n",
      "\n",
      "Deviation_Investment_Positive_Relation_5: 0.0174230789649 x_VAB\n",
      " + 0.00986984537192 x_VBAL + 0.0146976149715 x_VCN + 0.00119119160316 x_VXC\n",
      " + y_5 >= 0\n",
      "\n",
      "Deviation_Investment_Negative_Relation_6: - 0.00270280950861 x_VAB\n",
      " - 0.0300560561865 x_VBAL - 0.0618007873954 x_VCN - 0.043400346722 x_VXC + y_6\n",
      " >= 0\n",
      "\n",
      "Deviation_Investment_Positive_Relation_6: 0.00270280950861 x_VAB\n",
      " + 0.0300560561865 x_VBAL + 0.0618007873954 x_VCN + 0.043400346722 x_VXC + y_6\n",
      " >= 0\n",
      "\n",
      "Deviation_Investment_Negative_Relation_7: - 0.00745721063141 x_VAB\n",
      " - 0.0353053986067 x_VBAL - 0.0617098696945 x_VCN - 0.0478903218659 x_VXC\n",
      " + y_7 >= 0\n",
      "\n",
      "Deviation_Investment_Positive_Relation_7: 0.00745721063141 x_VAB\n",
      " + 0.0353053986067 x_VBAL + 0.0617098696945 x_VCN + 0.0478903218659 x_VXC\n",
      " + y_7 >= 0\n",
      "\n",
      "Deviation_Investment_Negative_Relation_8: 0.00390961486968 x_VAB\n",
      " + 0.0433821347738 x_VBAL + 0.0809984378164 x_VCN + 0.0573354808984 x_VXC\n",
      " + y_8 >= 0\n",
      "\n",
      "Deviation_Investment_Positive_Relation_8: - 0.00390961486968 x_VAB\n",
      " - 0.0433821347738 x_VBAL - 0.0809984378164 x_VCN - 0.0573354808984 x_VXC\n",
      " + y_8 >= 0\n",
      "\n",
      "Deviation_Investment_Negative_Relation_9: - 0.00160711922373 x_VAB\n",
      " - 0.0103736834747 x_VBAL - 0.0267689952173 x_VCN - 0.0045484102779 x_VXC\n",
      " + y_9 >= 0\n",
      "\n",
      "Deviation_Investment_Positive_Relation_9: 0.00160711922373 x_VAB\n",
      " + 0.0103736834747 x_VBAL + 0.0267689952173 x_VCN + 0.0045484102779 x_VXC\n",
      " + y_9 >= 0\n",
      "\n",
      "Deviation_Investment_Negative_Relation_10: - 0.0162376971316 x_VAB\n",
      " - 0.0191752166434 x_VBAL - 0.0338898205856 x_VCN - 0.0310437463787 x_VXC\n",
      " + y_10 >= 0\n",
      "\n",
      "Deviation_Investment_Positive_Relation_10: 0.0162376971316 x_VAB\n",
      " + 0.0191752166434 x_VBAL + 0.0338898205856 x_VCN + 0.0310437463787 x_VXC\n",
      " + y_10 >= 0\n",
      "\n",
      "Deviation_Investment_Negative_Relation_11: - 0.0316739343685 x_VAB\n",
      " - 0.014660125314 x_VBAL + 0.0125687821048 x_VCN - 0.0123682730304 x_VXC\n",
      " + y_11 >= 0\n",
      "\n",
      "Deviation_Investment_Positive_Relation_11: 0.0316739343685 x_VAB\n",
      " + 0.014660125314 x_VBAL - 0.0125687821048 x_VCN + 0.0123682730304 x_VXC\n",
      " + y_11 >= 0\n",
      "\n",
      "Probability_Simplex: x_VAB + x_VBAL + x_VCN + x_VXC = 1\n",
      "\n",
      "VARIABLES\n",
      "x_VAB Continuous\n",
      "x_VBAL Continuous\n",
      "x_VCN Continuous\n",
      "x_VXC Continuous\n",
      "y_1 Continuous\n",
      "y_10 Continuous\n",
      "y_11 Continuous\n",
      "y_2 Continuous\n",
      "y_3 Continuous\n",
      "y_4 Continuous\n",
      "y_5 Continuous\n",
      "y_6 Continuous\n",
      "y_7 Continuous\n",
      "y_8 Continuous\n",
      "y_9 Continuous\n",
      "\n"
     ]
    }
   ],
   "source": [
    "print(LP_Prob)"
   ]
  },
  {
   "cell_type": "code",
   "execution_count": 13,
   "metadata": {},
   "outputs": [
    {
     "data": {
      "text/plain": [
       "[x_VAB,\n",
       " x_VBAL,\n",
       " x_VCN,\n",
       " x_VXC,\n",
       " y_1,\n",
       " y_10,\n",
       " y_11,\n",
       " y_2,\n",
       " y_3,\n",
       " y_4,\n",
       " y_5,\n",
       " y_6,\n",
       " y_7,\n",
       " y_8,\n",
       " y_9]"
      ]
     },
     "execution_count": 13,
     "metadata": {},
     "output_type": "execute_result"
    }
   ],
   "source": [
    "LP_Prob.writeLP('OriginalPortfolioProblemParameter1.lp')"
   ]
  },
  {
   "cell_type": "code",
   "execution_count": 14,
   "metadata": {},
   "outputs": [
    {
     "data": {
      "text/plain": [
       "1"
      ]
     },
     "execution_count": 14,
     "metadata": {},
     "output_type": "execute_result"
    }
   ],
   "source": [
    "# The Problem is Solved Using PuLP's Choice of Solver.\n",
    "LP_Prob.solve()"
   ]
  },
  {
   "cell_type": "code",
   "execution_count": 15,
   "metadata": {},
   "outputs": [
    {
     "name": "stdout",
     "output_type": "stream",
     "text": [
      "Status: Optimal \n",
      "\n",
      "x_VAB = 0.0\n",
      "x_VCN = 0.0\n",
      "x_VXC = 1.0\n",
      "x_VBAL = 0.0\n",
      "\n",
      "\n",
      "Optimal Value : Z = 1.0040672442191507\n"
     ]
    }
   ],
   "source": [
    "print(f'Status: {LpStatus[LP_Prob.status]} \\n')\n",
    "\n",
    "for j, decision_variable in decision_variables_investment.items() :\n",
    "    print(f'{decision_variable.name} = {decision_variable.varValue}')\n",
    "print('\\n')\n",
    "\n",
    "if (LpStatus[LP_Prob.status] == 'Optimal') :\n",
    "    print(f'Optimal Value : Z = {value(LP_Prob.objective)}')\n",
    "else :\n",
    "    print(f'No Optimal Value. Status Code : {value(LP_Prob.objective)}')"
   ]
  },
  {
   "cell_type": "markdown",
   "metadata": {},
   "source": [
    "### Risk/Return Parameter of 0.5"
   ]
  },
  {
   "cell_type": "code",
   "execution_count": 16,
   "metadata": {},
   "outputs": [
    {
     "name": "stderr",
     "output_type": "stream",
     "text": [
      "c:\\users\\muntakim\\appdata\\local\\programs\\python\\python38-32\\lib\\site-packages\\pulp\\pulp.py:1537: UserWarning: Overwriting previously set objective.\n",
      "  warnings.warn(\"Overwriting previously set objective.\")\n"
     ]
    }
   ],
   "source": [
    "mu = 0.5\n",
    "\n",
    "expected_investment_returns = lpSum([mu * mean_returns[j] * decision_variables_investment[j] for j in investments]) \n",
    "monthly_deviation = lpSum([decision_variables_deviation[t] for t in range(1, T + 1)])/T\n",
    "\n",
    "# The Objective Function is Added to 'LP_Prob' First.\n",
    "LP_Prob += expected_investment_returns - monthly_deviation, 'Maximize_Portfolio_Returns'"
   ]
  },
  {
   "cell_type": "code",
   "execution_count": 17,
   "metadata": {},
   "outputs": [
    {
     "name": "stdout",
     "output_type": "stream",
     "text": [
      "Investment_Portfolio_Problem:\n",
      "MAXIMIZE\n",
      "0.5008035596118666*x_VAB + 0.5102835025457896*x_VBAL + 0.5166617845849744*x_VCN + 0.516181939195939*x_VXC + -0.09090909090909091*y_1 + -0.09090909090909091*y_10 + -0.09090909090909091*y_11 + -0.09090909090909091*y_2 + -0.09090909090909091*y_3 + -0.09090909090909091*y_4 + -0.09090909090909091*y_5 + -0.09090909090909091*y_6 + -0.09090909090909091*y_7 + -0.09090909090909091*y_8 + -0.09090909090909091*y_9 + 0.0\n",
      "SUBJECT TO\n",
      "Low_Bound_Deviation_1: y_1 >= 0\n",
      "\n",
      "Low_Bound_Deviation_2: y_2 >= 0\n",
      "\n",
      "Low_Bound_Deviation_3: y_3 >= 0\n",
      "\n",
      "Low_Bound_Deviation_4: y_4 >= 0\n",
      "\n",
      "Low_Bound_Deviation_5: y_5 >= 0\n",
      "\n",
      "Low_Bound_Deviation_6: y_6 >= 0\n",
      "\n",
      "Low_Bound_Deviation_7: y_7 >= 0\n",
      "\n",
      "Low_Bound_Deviation_8: y_8 >= 0\n",
      "\n",
      "Low_Bound_Deviation_9: y_9 >= 0\n",
      "\n",
      "Low_Bound_Deviation_10: y_10 >= 0\n",
      "\n",
      "Low_Bound_Deviation_11: y_11 >= 0\n",
      "\n",
      "Low_Bound_Investment_VAB: x_VAB >= 0\n",
      "\n",
      "Low_Bound_Investment_VCN: x_VCN >= 0\n",
      "\n",
      "Low_Bound_Investment_VXC: x_VXC >= 0\n",
      "\n",
      "Low_Bound_Investment_VBAL: x_VBAL >= 0\n",
      "\n",
      "Deviation_Investment_Negative_Relation_1: 0.0508608170374 x_VAB\n",
      " + 0.063770344306 x_VBAL + 0.0956591563579 x_VCN + 0.0778699509431 x_VXC + y_1\n",
      " >= 0\n",
      "\n",
      "Deviation_Investment_Positive_Relation_1: - 0.0508608170374 x_VAB\n",
      " - 0.063770344306 x_VBAL - 0.0956591563579 x_VCN - 0.0778699509431 x_VXC + y_1\n",
      " >= 0\n",
      "\n",
      "Deviation_Investment_Negative_Relation_2: - 0.00234567166096 x_VAB\n",
      " + 0.00998855046398 x_VBAL + 0.0118991441929 x_VCN + 0.0204260559626 x_VXC\n",
      " + y_2 >= 0\n",
      "\n",
      "Deviation_Investment_Positive_Relation_2: 0.00234567166096 x_VAB\n",
      " - 0.00998855046398 x_VBAL - 0.0118991441929 x_VCN - 0.0204260559626 x_VXC\n",
      " + y_2 >= 0\n",
      "\n",
      "Deviation_Investment_Negative_Relation_3: 0.0120661993276 x_VAB\n",
      " - 0.00169908056328 x_VBAL - 0.00729884568264 x_VCN - 0.00456444996891 x_VXC\n",
      " + y_3 >= 0\n",
      "\n",
      "Deviation_Investment_Positive_Relation_3: - 0.0120661993276 x_VAB\n",
      " + 0.00169908056328 x_VBAL + 0.00729884568264 x_VCN + 0.00456444996891 x_VXC\n",
      " + y_3 >= 0\n",
      "\n",
      "Deviation_Investment_Negative_Relation_4: 0.0126108902549 x_VAB\n",
      " + 0.00399837661666 x_VBAL + 0.00504041307482 x_VCN - 0.0106247479571 x_VXC\n",
      " + y_4 >= 0\n",
      "\n",
      "Deviation_Investment_Positive_Relation_4: - 0.0126108902549 x_VAB\n",
      " - 0.00399837661666 x_VBAL - 0.00504041307482 x_VCN + 0.0106247479571 x_VXC\n",
      " + y_4 >= 0\n",
      "\n",
      "Deviation_Investment_Negative_Relation_5: - 0.0174230789649 x_VAB\n",
      " - 0.00986984537192 x_VBAL - 0.0146976149715 x_VCN - 0.00119119160316 x_VXC\n",
      " + y_5 >= 0\n",
      "\n",
      "Deviation_Investment_Positive_Relation_5: 0.0174230789649 x_VAB\n",
      " + 0.00986984537192 x_VBAL + 0.0146976149715 x_VCN + 0.00119119160316 x_VXC\n",
      " + y_5 >= 0\n",
      "\n",
      "Deviation_Investment_Negative_Relation_6: - 0.00270280950861 x_VAB\n",
      " - 0.0300560561865 x_VBAL - 0.0618007873954 x_VCN - 0.043400346722 x_VXC + y_6\n",
      " >= 0\n",
      "\n",
      "Deviation_Investment_Positive_Relation_6: 0.00270280950861 x_VAB\n",
      " + 0.0300560561865 x_VBAL + 0.0618007873954 x_VCN + 0.043400346722 x_VXC + y_6\n",
      " >= 0\n",
      "\n",
      "Deviation_Investment_Negative_Relation_7: - 0.00745721063141 x_VAB\n",
      " - 0.0353053986067 x_VBAL - 0.0617098696945 x_VCN - 0.0478903218659 x_VXC\n",
      " + y_7 >= 0\n",
      "\n",
      "Deviation_Investment_Positive_Relation_7: 0.00745721063141 x_VAB\n",
      " + 0.0353053986067 x_VBAL + 0.0617098696945 x_VCN + 0.0478903218659 x_VXC\n",
      " + y_7 >= 0\n",
      "\n",
      "Deviation_Investment_Negative_Relation_8: 0.00390961486968 x_VAB\n",
      " + 0.0433821347738 x_VBAL + 0.0809984378164 x_VCN + 0.0573354808984 x_VXC\n",
      " + y_8 >= 0\n",
      "\n",
      "Deviation_Investment_Positive_Relation_8: - 0.00390961486968 x_VAB\n",
      " - 0.0433821347738 x_VBAL - 0.0809984378164 x_VCN - 0.0573354808984 x_VXC\n",
      " + y_8 >= 0\n",
      "\n",
      "Deviation_Investment_Negative_Relation_9: - 0.00160711922373 x_VAB\n",
      " - 0.0103736834747 x_VBAL - 0.0267689952173 x_VCN - 0.0045484102779 x_VXC\n",
      " + y_9 >= 0\n",
      "\n",
      "Deviation_Investment_Positive_Relation_9: 0.00160711922373 x_VAB\n",
      " + 0.0103736834747 x_VBAL + 0.0267689952173 x_VCN + 0.0045484102779 x_VXC\n",
      " + y_9 >= 0\n",
      "\n",
      "Deviation_Investment_Negative_Relation_10: - 0.0162376971316 x_VAB\n",
      " - 0.0191752166434 x_VBAL - 0.0338898205856 x_VCN - 0.0310437463787 x_VXC\n",
      " + y_10 >= 0\n",
      "\n",
      "Deviation_Investment_Positive_Relation_10: 0.0162376971316 x_VAB\n",
      " + 0.0191752166434 x_VBAL + 0.0338898205856 x_VCN + 0.0310437463787 x_VXC\n",
      " + y_10 >= 0\n",
      "\n",
      "Deviation_Investment_Negative_Relation_11: - 0.0316739343685 x_VAB\n",
      " - 0.014660125314 x_VBAL + 0.0125687821048 x_VCN - 0.0123682730304 x_VXC\n",
      " + y_11 >= 0\n",
      "\n",
      "Deviation_Investment_Positive_Relation_11: 0.0316739343685 x_VAB\n",
      " + 0.014660125314 x_VBAL - 0.0125687821048 x_VCN + 0.0123682730304 x_VXC\n",
      " + y_11 >= 0\n",
      "\n",
      "Probability_Simplex: x_VAB + x_VBAL + x_VCN + x_VXC = 1\n",
      "\n",
      "VARIABLES\n",
      "x_VAB Continuous\n",
      "x_VBAL Continuous\n",
      "x_VCN Continuous\n",
      "x_VXC Continuous\n",
      "y_1 Continuous\n",
      "y_10 Continuous\n",
      "y_11 Continuous\n",
      "y_2 Continuous\n",
      "y_3 Continuous\n",
      "y_4 Continuous\n",
      "y_5 Continuous\n",
      "y_6 Continuous\n",
      "y_7 Continuous\n",
      "y_8 Continuous\n",
      "y_9 Continuous\n",
      "\n"
     ]
    }
   ],
   "source": [
    "print(LP_Prob)"
   ]
  },
  {
   "cell_type": "code",
   "execution_count": 18,
   "metadata": {},
   "outputs": [
    {
     "data": {
      "text/plain": [
       "[x_VAB,\n",
       " x_VBAL,\n",
       " x_VCN,\n",
       " x_VXC,\n",
       " y_1,\n",
       " y_10,\n",
       " y_11,\n",
       " y_2,\n",
       " y_3,\n",
       " y_4,\n",
       " y_5,\n",
       " y_6,\n",
       " y_7,\n",
       " y_8,\n",
       " y_9]"
      ]
     },
     "execution_count": 18,
     "metadata": {},
     "output_type": "execute_result"
    }
   ],
   "source": [
    "LP_Prob.writeLP('OriginalPortfolioProblemParameter0.5.lp')"
   ]
  },
  {
   "cell_type": "code",
   "execution_count": 19,
   "metadata": {},
   "outputs": [
    {
     "data": {
      "text/plain": [
       "1"
      ]
     },
     "execution_count": 19,
     "metadata": {},
     "output_type": "execute_result"
    }
   ],
   "source": [
    "# The Problem is Solved Using PuLP's Choice of Solver.\n",
    "LP_Prob.solve()"
   ]
  },
  {
   "cell_type": "code",
   "execution_count": 20,
   "metadata": {},
   "outputs": [
    {
     "name": "stdout",
     "output_type": "stream",
     "text": [
      "Status: Optimal \n",
      "\n",
      "x_VAB = 0.20554895\n",
      "x_VCN = 0.0\n",
      "x_VXC = 0.39448954\n",
      "x_VBAL = 0.3999615\n",
      "\n",
      "\n",
      "Optimal Value : Z = 0.4890212764694815\n"
     ]
    }
   ],
   "source": [
    "print(f'Status: {LpStatus[LP_Prob.status]} \\n')\n",
    "\n",
    "for j, decision_variable in decision_variables_investment.items() :\n",
    "    print(f'{decision_variable.name} = {decision_variable.varValue}')\n",
    "print('\\n')\n",
    "\n",
    "if (LpStatus[LP_Prob.status] == 'Optimal') :\n",
    "    print(f'Optimal Value : Z = {value(LP_Prob.objective)}')\n",
    "else :\n",
    "    print(f'No Optimal Value. Status Code : {value(LP_Prob.objective)}')"
   ]
  },
  {
   "cell_type": "markdown",
   "metadata": {},
   "source": [
    "### Risk/Return Parameter of 0"
   ]
  },
  {
   "cell_type": "code",
   "execution_count": 21,
   "metadata": {},
   "outputs": [],
   "source": [
    "mu = 0\n",
    "\n",
    "expected_investment_returns = lpSum([mu * mean_returns[j] * decision_variables_investment[j] for j in investments]) \n",
    "monthly_deviation = lpSum([decision_variables_deviation[t] for t in range(1, T + 1)])/T\n",
    "\n",
    "# The Objective Function is Added to 'LP_Prob' First.\n",
    "LP_Prob += expected_investment_returns - monthly_deviation, 'Maximize_Portfolio_Returns'"
   ]
  },
  {
   "cell_type": "code",
   "execution_count": 22,
   "metadata": {},
   "outputs": [
    {
     "name": "stdout",
     "output_type": "stream",
     "text": [
      "Investment_Portfolio_Problem:\n",
      "MAXIMIZE\n",
      "-0.09090909090909091*y_1 + -0.09090909090909091*y_10 + -0.09090909090909091*y_11 + -0.09090909090909091*y_2 + -0.09090909090909091*y_3 + -0.09090909090909091*y_4 + -0.09090909090909091*y_5 + -0.09090909090909091*y_6 + -0.09090909090909091*y_7 + -0.09090909090909091*y_8 + -0.09090909090909091*y_9 + 0.0\n",
      "SUBJECT TO\n",
      "Low_Bound_Deviation_1: y_1 >= 0\n",
      "\n",
      "Low_Bound_Deviation_2: y_2 >= 0\n",
      "\n",
      "Low_Bound_Deviation_3: y_3 >= 0\n",
      "\n",
      "Low_Bound_Deviation_4: y_4 >= 0\n",
      "\n",
      "Low_Bound_Deviation_5: y_5 >= 0\n",
      "\n",
      "Low_Bound_Deviation_6: y_6 >= 0\n",
      "\n",
      "Low_Bound_Deviation_7: y_7 >= 0\n",
      "\n",
      "Low_Bound_Deviation_8: y_8 >= 0\n",
      "\n",
      "Low_Bound_Deviation_9: y_9 >= 0\n",
      "\n",
      "Low_Bound_Deviation_10: y_10 >= 0\n",
      "\n",
      "Low_Bound_Deviation_11: y_11 >= 0\n",
      "\n",
      "Low_Bound_Investment_VAB: x_VAB >= 0\n",
      "\n",
      "Low_Bound_Investment_VCN: x_VCN >= 0\n",
      "\n",
      "Low_Bound_Investment_VXC: x_VXC >= 0\n",
      "\n",
      "Low_Bound_Investment_VBAL: x_VBAL >= 0\n",
      "\n",
      "Deviation_Investment_Negative_Relation_1: 0.0508608170374 x_VAB\n",
      " + 0.063770344306 x_VBAL + 0.0956591563579 x_VCN + 0.0778699509431 x_VXC + y_1\n",
      " >= 0\n",
      "\n",
      "Deviation_Investment_Positive_Relation_1: - 0.0508608170374 x_VAB\n",
      " - 0.063770344306 x_VBAL - 0.0956591563579 x_VCN - 0.0778699509431 x_VXC + y_1\n",
      " >= 0\n",
      "\n",
      "Deviation_Investment_Negative_Relation_2: - 0.00234567166096 x_VAB\n",
      " + 0.00998855046398 x_VBAL + 0.0118991441929 x_VCN + 0.0204260559626 x_VXC\n",
      " + y_2 >= 0\n",
      "\n",
      "Deviation_Investment_Positive_Relation_2: 0.00234567166096 x_VAB\n",
      " - 0.00998855046398 x_VBAL - 0.0118991441929 x_VCN - 0.0204260559626 x_VXC\n",
      " + y_2 >= 0\n",
      "\n",
      "Deviation_Investment_Negative_Relation_3: 0.0120661993276 x_VAB\n",
      " - 0.00169908056328 x_VBAL - 0.00729884568264 x_VCN - 0.00456444996891 x_VXC\n",
      " + y_3 >= 0\n",
      "\n",
      "Deviation_Investment_Positive_Relation_3: - 0.0120661993276 x_VAB\n",
      " + 0.00169908056328 x_VBAL + 0.00729884568264 x_VCN + 0.00456444996891 x_VXC\n",
      " + y_3 >= 0\n",
      "\n",
      "Deviation_Investment_Negative_Relation_4: 0.0126108902549 x_VAB\n",
      " + 0.00399837661666 x_VBAL + 0.00504041307482 x_VCN - 0.0106247479571 x_VXC\n",
      " + y_4 >= 0\n",
      "\n",
      "Deviation_Investment_Positive_Relation_4: - 0.0126108902549 x_VAB\n",
      " - 0.00399837661666 x_VBAL - 0.00504041307482 x_VCN + 0.0106247479571 x_VXC\n",
      " + y_4 >= 0\n",
      "\n",
      "Deviation_Investment_Negative_Relation_5: - 0.0174230789649 x_VAB\n",
      " - 0.00986984537192 x_VBAL - 0.0146976149715 x_VCN - 0.00119119160316 x_VXC\n",
      " + y_5 >= 0\n",
      "\n",
      "Deviation_Investment_Positive_Relation_5: 0.0174230789649 x_VAB\n",
      " + 0.00986984537192 x_VBAL + 0.0146976149715 x_VCN + 0.00119119160316 x_VXC\n",
      " + y_5 >= 0\n",
      "\n",
      "Deviation_Investment_Negative_Relation_6: - 0.00270280950861 x_VAB\n",
      " - 0.0300560561865 x_VBAL - 0.0618007873954 x_VCN - 0.043400346722 x_VXC + y_6\n",
      " >= 0\n",
      "\n",
      "Deviation_Investment_Positive_Relation_6: 0.00270280950861 x_VAB\n",
      " + 0.0300560561865 x_VBAL + 0.0618007873954 x_VCN + 0.043400346722 x_VXC + y_6\n",
      " >= 0\n",
      "\n",
      "Deviation_Investment_Negative_Relation_7: - 0.00745721063141 x_VAB\n",
      " - 0.0353053986067 x_VBAL - 0.0617098696945 x_VCN - 0.0478903218659 x_VXC\n",
      " + y_7 >= 0\n",
      "\n",
      "Deviation_Investment_Positive_Relation_7: 0.00745721063141 x_VAB\n",
      " + 0.0353053986067 x_VBAL + 0.0617098696945 x_VCN + 0.0478903218659 x_VXC\n",
      " + y_7 >= 0\n",
      "\n",
      "Deviation_Investment_Negative_Relation_8: 0.00390961486968 x_VAB\n",
      " + 0.0433821347738 x_VBAL + 0.0809984378164 x_VCN + 0.0573354808984 x_VXC\n",
      " + y_8 >= 0\n",
      "\n",
      "Deviation_Investment_Positive_Relation_8: - 0.00390961486968 x_VAB\n",
      " - 0.0433821347738 x_VBAL - 0.0809984378164 x_VCN - 0.0573354808984 x_VXC\n",
      " + y_8 >= 0\n",
      "\n",
      "Deviation_Investment_Negative_Relation_9: - 0.00160711922373 x_VAB\n",
      " - 0.0103736834747 x_VBAL - 0.0267689952173 x_VCN - 0.0045484102779 x_VXC\n",
      " + y_9 >= 0\n",
      "\n",
      "Deviation_Investment_Positive_Relation_9: 0.00160711922373 x_VAB\n",
      " + 0.0103736834747 x_VBAL + 0.0267689952173 x_VCN + 0.0045484102779 x_VXC\n",
      " + y_9 >= 0\n",
      "\n",
      "Deviation_Investment_Negative_Relation_10: - 0.0162376971316 x_VAB\n",
      " - 0.0191752166434 x_VBAL - 0.0338898205856 x_VCN - 0.0310437463787 x_VXC\n",
      " + y_10 >= 0\n",
      "\n",
      "Deviation_Investment_Positive_Relation_10: 0.0162376971316 x_VAB\n",
      " + 0.0191752166434 x_VBAL + 0.0338898205856 x_VCN + 0.0310437463787 x_VXC\n",
      " + y_10 >= 0\n",
      "\n",
      "Deviation_Investment_Negative_Relation_11: - 0.0316739343685 x_VAB\n",
      " - 0.014660125314 x_VBAL + 0.0125687821048 x_VCN - 0.0123682730304 x_VXC\n",
      " + y_11 >= 0\n",
      "\n",
      "Deviation_Investment_Positive_Relation_11: 0.0316739343685 x_VAB\n",
      " + 0.014660125314 x_VBAL - 0.0125687821048 x_VCN + 0.0123682730304 x_VXC\n",
      " + y_11 >= 0\n",
      "\n",
      "Probability_Simplex: x_VAB + x_VBAL + x_VCN + x_VXC = 1\n",
      "\n",
      "VARIABLES\n",
      "x_VAB Continuous\n",
      "x_VBAL Continuous\n",
      "x_VCN Continuous\n",
      "x_VXC Continuous\n",
      "y_1 Continuous\n",
      "y_10 Continuous\n",
      "y_11 Continuous\n",
      "y_2 Continuous\n",
      "y_3 Continuous\n",
      "y_4 Continuous\n",
      "y_5 Continuous\n",
      "y_6 Continuous\n",
      "y_7 Continuous\n",
      "y_8 Continuous\n",
      "y_9 Continuous\n",
      "\n"
     ]
    }
   ],
   "source": [
    "print(LP_Prob)"
   ]
  },
  {
   "cell_type": "code",
   "execution_count": 23,
   "metadata": {},
   "outputs": [
    {
     "data": {
      "text/plain": [
       "[x_VAB,\n",
       " x_VBAL,\n",
       " x_VCN,\n",
       " x_VXC,\n",
       " y_1,\n",
       " y_10,\n",
       " y_11,\n",
       " y_2,\n",
       " y_3,\n",
       " y_4,\n",
       " y_5,\n",
       " y_6,\n",
       " y_7,\n",
       " y_8,\n",
       " y_9]"
      ]
     },
     "execution_count": 23,
     "metadata": {},
     "output_type": "execute_result"
    }
   ],
   "source": [
    "LP_Prob.writeLP('OriginalPortfolioProblemParameter0.lp')"
   ]
  },
  {
   "cell_type": "code",
   "execution_count": 24,
   "metadata": {},
   "outputs": [
    {
     "data": {
      "text/plain": [
       "1"
      ]
     },
     "execution_count": 24,
     "metadata": {},
     "output_type": "execute_result"
    }
   ],
   "source": [
    "# The Problem is Solved Using PuLP's Choice of Solver.\n",
    "LP_Prob.solve()"
   ]
  },
  {
   "cell_type": "code",
   "execution_count": 25,
   "metadata": {},
   "outputs": [
    {
     "name": "stdout",
     "output_type": "stream",
     "text": [
      "Status: Optimal \n",
      "\n",
      "x_VAB = 1.0\n",
      "x_VCN = 0.0\n",
      "x_VXC = 0.0\n",
      "x_VBAL = 0.0\n",
      "\n",
      "\n",
      "Optimal Value : Z = -0.014445003809090912\n"
     ]
    }
   ],
   "source": [
    "print(f'Status: {LpStatus[LP_Prob.status]} \\n')\n",
    "\n",
    "for j, decision_variable in decision_variables_investment.items() :\n",
    "    print(f'{decision_variable.name} = {decision_variable.varValue}')\n",
    "print('\\n')\n",
    "\n",
    "if (LpStatus[LP_Prob.status] == 'Optimal') :\n",
    "    print(f'Optimal Value : Z = {value(LP_Prob.objective)}')\n",
    "else :\n",
    "    print(f'No Optimal Value. Status Code : {value(LP_Prob.objective)}')"
   ]
  },
  {
   "cell_type": "markdown",
   "metadata": {},
   "source": [
    "## Change Portfolio Composition (Upper Limit 90% Stocks, 80% Canada)"
   ]
  },
  {
   "cell_type": "markdown",
   "metadata": {},
   "source": [
    "### Risk/Return Parameter of 1"
   ]
  },
  {
   "cell_type": "code",
   "execution_count": 26,
   "metadata": {},
   "outputs": [],
   "source": [
    "mu = 1\n",
    "\n",
    "expected_investment_returns = lpSum([mu * mean_returns[j] * decision_variables_investment[j] for j in investments]) \n",
    "monthly_deviation = lpSum([decision_variables_deviation[t] for t in range(1, T + 1)])/T\n",
    "\n",
    "# The Objective Function is Added to 'LP_Prob' First.\n",
    "LP_Prob += expected_investment_returns - monthly_deviation, 'Maximize_Portfolio_Returns'"
   ]
  },
  {
   "cell_type": "code",
   "execution_count": 27,
   "metadata": {},
   "outputs": [],
   "source": [
    "stocks = {'VCN' : 1, 'VXC' : 1, 'VBAL' : 0.6} \n",
    "canada_investments = {'VAB' : 1, 'VCN' : 1, 'VBAL' : 0.3}\n",
    "\n",
    "# The New Constraints are Added to 'LP_Prob'\n",
    "LP_Prob += lpSum([(percent * decision_variables_investment[stock]) for stock, percent in stocks.items()]) <= 0.9, 'Stocks_Limit' \n",
    "\n",
    "LP_Prob += lpSum([(percent * decision_variables_investment[investment]) for investment, percent in canada_investments.items()]) <= 0.8, 'Canada_Limit' "
   ]
  },
  {
   "cell_type": "code",
   "execution_count": 28,
   "metadata": {},
   "outputs": [
    {
     "name": "stdout",
     "output_type": "stream",
     "text": [
      "Investment_Portfolio_Problem:\n",
      "MAXIMIZE\n",
      "1.0016071192237332*x_VAB + 1.0205670050915792*x_VBAL + 1.0333235691699487*x_VCN + 1.032363878391878*x_VXC + -0.09090909090909091*y_1 + -0.09090909090909091*y_10 + -0.09090909090909091*y_11 + -0.09090909090909091*y_2 + -0.09090909090909091*y_3 + -0.09090909090909091*y_4 + -0.09090909090909091*y_5 + -0.09090909090909091*y_6 + -0.09090909090909091*y_7 + -0.09090909090909091*y_8 + -0.09090909090909091*y_9 + 0.0\n",
      "SUBJECT TO\n",
      "Low_Bound_Deviation_1: y_1 >= 0\n",
      "\n",
      "Low_Bound_Deviation_2: y_2 >= 0\n",
      "\n",
      "Low_Bound_Deviation_3: y_3 >= 0\n",
      "\n",
      "Low_Bound_Deviation_4: y_4 >= 0\n",
      "\n",
      "Low_Bound_Deviation_5: y_5 >= 0\n",
      "\n",
      "Low_Bound_Deviation_6: y_6 >= 0\n",
      "\n",
      "Low_Bound_Deviation_7: y_7 >= 0\n",
      "\n",
      "Low_Bound_Deviation_8: y_8 >= 0\n",
      "\n",
      "Low_Bound_Deviation_9: y_9 >= 0\n",
      "\n",
      "Low_Bound_Deviation_10: y_10 >= 0\n",
      "\n",
      "Low_Bound_Deviation_11: y_11 >= 0\n",
      "\n",
      "Low_Bound_Investment_VAB: x_VAB >= 0\n",
      "\n",
      "Low_Bound_Investment_VCN: x_VCN >= 0\n",
      "\n",
      "Low_Bound_Investment_VXC: x_VXC >= 0\n",
      "\n",
      "Low_Bound_Investment_VBAL: x_VBAL >= 0\n",
      "\n",
      "Deviation_Investment_Negative_Relation_1: 0.0508608170374 x_VAB\n",
      " + 0.063770344306 x_VBAL + 0.0956591563579 x_VCN + 0.0778699509431 x_VXC + y_1\n",
      " >= 0\n",
      "\n",
      "Deviation_Investment_Positive_Relation_1: - 0.0508608170374 x_VAB\n",
      " - 0.063770344306 x_VBAL - 0.0956591563579 x_VCN - 0.0778699509431 x_VXC + y_1\n",
      " >= 0\n",
      "\n",
      "Deviation_Investment_Negative_Relation_2: - 0.00234567166096 x_VAB\n",
      " + 0.00998855046398 x_VBAL + 0.0118991441929 x_VCN + 0.0204260559626 x_VXC\n",
      " + y_2 >= 0\n",
      "\n",
      "Deviation_Investment_Positive_Relation_2: 0.00234567166096 x_VAB\n",
      " - 0.00998855046398 x_VBAL - 0.0118991441929 x_VCN - 0.0204260559626 x_VXC\n",
      " + y_2 >= 0\n",
      "\n",
      "Deviation_Investment_Negative_Relation_3: 0.0120661993276 x_VAB\n",
      " - 0.00169908056328 x_VBAL - 0.00729884568264 x_VCN - 0.00456444996891 x_VXC\n",
      " + y_3 >= 0\n",
      "\n",
      "Deviation_Investment_Positive_Relation_3: - 0.0120661993276 x_VAB\n",
      " + 0.00169908056328 x_VBAL + 0.00729884568264 x_VCN + 0.00456444996891 x_VXC\n",
      " + y_3 >= 0\n",
      "\n",
      "Deviation_Investment_Negative_Relation_4: 0.0126108902549 x_VAB\n",
      " + 0.00399837661666 x_VBAL + 0.00504041307482 x_VCN - 0.0106247479571 x_VXC\n",
      " + y_4 >= 0\n",
      "\n",
      "Deviation_Investment_Positive_Relation_4: - 0.0126108902549 x_VAB\n",
      " - 0.00399837661666 x_VBAL - 0.00504041307482 x_VCN + 0.0106247479571 x_VXC\n",
      " + y_4 >= 0\n",
      "\n",
      "Deviation_Investment_Negative_Relation_5: - 0.0174230789649 x_VAB\n",
      " - 0.00986984537192 x_VBAL - 0.0146976149715 x_VCN - 0.00119119160316 x_VXC\n",
      " + y_5 >= 0\n",
      "\n",
      "Deviation_Investment_Positive_Relation_5: 0.0174230789649 x_VAB\n",
      " + 0.00986984537192 x_VBAL + 0.0146976149715 x_VCN + 0.00119119160316 x_VXC\n",
      " + y_5 >= 0\n",
      "\n",
      "Deviation_Investment_Negative_Relation_6: - 0.00270280950861 x_VAB\n",
      " - 0.0300560561865 x_VBAL - 0.0618007873954 x_VCN - 0.043400346722 x_VXC + y_6\n",
      " >= 0\n",
      "\n",
      "Deviation_Investment_Positive_Relation_6: 0.00270280950861 x_VAB\n",
      " + 0.0300560561865 x_VBAL + 0.0618007873954 x_VCN + 0.043400346722 x_VXC + y_6\n",
      " >= 0\n",
      "\n",
      "Deviation_Investment_Negative_Relation_7: - 0.00745721063141 x_VAB\n",
      " - 0.0353053986067 x_VBAL - 0.0617098696945 x_VCN - 0.0478903218659 x_VXC\n",
      " + y_7 >= 0\n",
      "\n",
      "Deviation_Investment_Positive_Relation_7: 0.00745721063141 x_VAB\n",
      " + 0.0353053986067 x_VBAL + 0.0617098696945 x_VCN + 0.0478903218659 x_VXC\n",
      " + y_7 >= 0\n",
      "\n",
      "Deviation_Investment_Negative_Relation_8: 0.00390961486968 x_VAB\n",
      " + 0.0433821347738 x_VBAL + 0.0809984378164 x_VCN + 0.0573354808984 x_VXC\n",
      " + y_8 >= 0\n",
      "\n",
      "Deviation_Investment_Positive_Relation_8: - 0.00390961486968 x_VAB\n",
      " - 0.0433821347738 x_VBAL - 0.0809984378164 x_VCN - 0.0573354808984 x_VXC\n",
      " + y_8 >= 0\n",
      "\n",
      "Deviation_Investment_Negative_Relation_9: - 0.00160711922373 x_VAB\n",
      " - 0.0103736834747 x_VBAL - 0.0267689952173 x_VCN - 0.0045484102779 x_VXC\n",
      " + y_9 >= 0\n",
      "\n",
      "Deviation_Investment_Positive_Relation_9: 0.00160711922373 x_VAB\n",
      " + 0.0103736834747 x_VBAL + 0.0267689952173 x_VCN + 0.0045484102779 x_VXC\n",
      " + y_9 >= 0\n",
      "\n",
      "Deviation_Investment_Negative_Relation_10: - 0.0162376971316 x_VAB\n",
      " - 0.0191752166434 x_VBAL - 0.0338898205856 x_VCN - 0.0310437463787 x_VXC\n",
      " + y_10 >= 0\n",
      "\n",
      "Deviation_Investment_Positive_Relation_10: 0.0162376971316 x_VAB\n",
      " + 0.0191752166434 x_VBAL + 0.0338898205856 x_VCN + 0.0310437463787 x_VXC\n",
      " + y_10 >= 0\n",
      "\n",
      "Deviation_Investment_Negative_Relation_11: - 0.0316739343685 x_VAB\n",
      " - 0.014660125314 x_VBAL + 0.0125687821048 x_VCN - 0.0123682730304 x_VXC\n",
      " + y_11 >= 0\n",
      "\n",
      "Deviation_Investment_Positive_Relation_11: 0.0316739343685 x_VAB\n",
      " + 0.014660125314 x_VBAL - 0.0125687821048 x_VCN + 0.0123682730304 x_VXC\n",
      " + y_11 >= 0\n",
      "\n",
      "Probability_Simplex: x_VAB + x_VBAL + x_VCN + x_VXC = 1\n",
      "\n",
      "Stocks_Limit: 0.6 x_VBAL + x_VCN + x_VXC <= 0.9\n",
      "\n",
      "Canada_Limit: x_VAB + 0.3 x_VBAL + x_VCN <= 0.8\n",
      "\n",
      "VARIABLES\n",
      "x_VAB Continuous\n",
      "x_VBAL Continuous\n",
      "x_VCN Continuous\n",
      "x_VXC Continuous\n",
      "y_1 Continuous\n",
      "y_10 Continuous\n",
      "y_11 Continuous\n",
      "y_2 Continuous\n",
      "y_3 Continuous\n",
      "y_4 Continuous\n",
      "y_5 Continuous\n",
      "y_6 Continuous\n",
      "y_7 Continuous\n",
      "y_8 Continuous\n",
      "y_9 Continuous\n",
      "\n"
     ]
    }
   ],
   "source": [
    "print(LP_Prob)"
   ]
  },
  {
   "cell_type": "code",
   "execution_count": 29,
   "metadata": {},
   "outputs": [
    {
     "data": {
      "text/plain": [
       "[x_VAB,\n",
       " x_VBAL,\n",
       " x_VCN,\n",
       " x_VXC,\n",
       " y_1,\n",
       " y_10,\n",
       " y_11,\n",
       " y_2,\n",
       " y_3,\n",
       " y_4,\n",
       " y_5,\n",
       " y_6,\n",
       " y_7,\n",
       " y_8,\n",
       " y_9]"
      ]
     },
     "execution_count": 29,
     "metadata": {},
     "output_type": "execute_result"
    }
   ],
   "source": [
    "LP_Prob.writeLP('NewPortfolioProblemParameter1.lp')"
   ]
  },
  {
   "cell_type": "code",
   "execution_count": 30,
   "metadata": {},
   "outputs": [
    {
     "data": {
      "text/plain": [
       "1"
      ]
     },
     "execution_count": 30,
     "metadata": {},
     "output_type": "execute_result"
    }
   ],
   "source": [
    "# The Problem is Solved Using PuLP's Choice of Solver.\n",
    "LP_Prob.solve()"
   ]
  },
  {
   "cell_type": "code",
   "execution_count": 31,
   "metadata": {},
   "outputs": [
    {
     "name": "stdout",
     "output_type": "stream",
     "text": [
      "Status: Optimal \n",
      "\n",
      "x_VAB = 0.1\n",
      "x_VCN = 0.0\n",
      "x_VXC = 0.9\n",
      "x_VBAL = 0.0\n",
      "\n",
      "\n",
      "Optimal Value : Z = 1.002868054329609\n"
     ]
    }
   ],
   "source": [
    "print(f'Status: {LpStatus[LP_Prob.status]} \\n')\n",
    "\n",
    "for j, decision_variable in decision_variables_investment.items() :\n",
    "    print(f'{decision_variable.name} = {decision_variable.varValue}')\n",
    "print('\\n')\n",
    "\n",
    "if (LpStatus[LP_Prob.status] == 'Optimal') :\n",
    "    print(f'Optimal Value : Z = {value(LP_Prob.objective)}')\n",
    "else :\n",
    "    print(f'No Optimal Value. Status Code : {value(LP_Prob.objective)}')"
   ]
  },
  {
   "cell_type": "markdown",
   "metadata": {},
   "source": [
    "### Risk/Return Parameter of 0.5"
   ]
  },
  {
   "cell_type": "code",
   "execution_count": 32,
   "metadata": {},
   "outputs": [],
   "source": [
    "mu = 0.5\n",
    "\n",
    "# The Objective Function is Added to 'LP_Prob' First.\n",
    "LP_Prob += mu*expected_investment_returns - monthly_deviation, 'Maximize_Portfolio_Returns'"
   ]
  },
  {
   "cell_type": "code",
   "execution_count": 33,
   "metadata": {},
   "outputs": [
    {
     "name": "stdout",
     "output_type": "stream",
     "text": [
      "Investment_Portfolio_Problem:\n",
      "MAXIMIZE\n",
      "0.5008035596118666*x_VAB + 0.5102835025457896*x_VBAL + 0.5166617845849744*x_VCN + 0.516181939195939*x_VXC + -0.09090909090909091*y_1 + -0.09090909090909091*y_10 + -0.09090909090909091*y_11 + -0.09090909090909091*y_2 + -0.09090909090909091*y_3 + -0.09090909090909091*y_4 + -0.09090909090909091*y_5 + -0.09090909090909091*y_6 + -0.09090909090909091*y_7 + -0.09090909090909091*y_8 + -0.09090909090909091*y_9 + 0.0\n",
      "SUBJECT TO\n",
      "Low_Bound_Deviation_1: y_1 >= 0\n",
      "\n",
      "Low_Bound_Deviation_2: y_2 >= 0\n",
      "\n",
      "Low_Bound_Deviation_3: y_3 >= 0\n",
      "\n",
      "Low_Bound_Deviation_4: y_4 >= 0\n",
      "\n",
      "Low_Bound_Deviation_5: y_5 >= 0\n",
      "\n",
      "Low_Bound_Deviation_6: y_6 >= 0\n",
      "\n",
      "Low_Bound_Deviation_7: y_7 >= 0\n",
      "\n",
      "Low_Bound_Deviation_8: y_8 >= 0\n",
      "\n",
      "Low_Bound_Deviation_9: y_9 >= 0\n",
      "\n",
      "Low_Bound_Deviation_10: y_10 >= 0\n",
      "\n",
      "Low_Bound_Deviation_11: y_11 >= 0\n",
      "\n",
      "Low_Bound_Investment_VAB: x_VAB >= 0\n",
      "\n",
      "Low_Bound_Investment_VCN: x_VCN >= 0\n",
      "\n",
      "Low_Bound_Investment_VXC: x_VXC >= 0\n",
      "\n",
      "Low_Bound_Investment_VBAL: x_VBAL >= 0\n",
      "\n",
      "Deviation_Investment_Negative_Relation_1: 0.0508608170374 x_VAB\n",
      " + 0.063770344306 x_VBAL + 0.0956591563579 x_VCN + 0.0778699509431 x_VXC + y_1\n",
      " >= 0\n",
      "\n",
      "Deviation_Investment_Positive_Relation_1: - 0.0508608170374 x_VAB\n",
      " - 0.063770344306 x_VBAL - 0.0956591563579 x_VCN - 0.0778699509431 x_VXC + y_1\n",
      " >= 0\n",
      "\n",
      "Deviation_Investment_Negative_Relation_2: - 0.00234567166096 x_VAB\n",
      " + 0.00998855046398 x_VBAL + 0.0118991441929 x_VCN + 0.0204260559626 x_VXC\n",
      " + y_2 >= 0\n",
      "\n",
      "Deviation_Investment_Positive_Relation_2: 0.00234567166096 x_VAB\n",
      " - 0.00998855046398 x_VBAL - 0.0118991441929 x_VCN - 0.0204260559626 x_VXC\n",
      " + y_2 >= 0\n",
      "\n",
      "Deviation_Investment_Negative_Relation_3: 0.0120661993276 x_VAB\n",
      " - 0.00169908056328 x_VBAL - 0.00729884568264 x_VCN - 0.00456444996891 x_VXC\n",
      " + y_3 >= 0\n",
      "\n",
      "Deviation_Investment_Positive_Relation_3: - 0.0120661993276 x_VAB\n",
      " + 0.00169908056328 x_VBAL + 0.00729884568264 x_VCN + 0.00456444996891 x_VXC\n",
      " + y_3 >= 0\n",
      "\n",
      "Deviation_Investment_Negative_Relation_4: 0.0126108902549 x_VAB\n",
      " + 0.00399837661666 x_VBAL + 0.00504041307482 x_VCN - 0.0106247479571 x_VXC\n",
      " + y_4 >= 0\n",
      "\n",
      "Deviation_Investment_Positive_Relation_4: - 0.0126108902549 x_VAB\n",
      " - 0.00399837661666 x_VBAL - 0.00504041307482 x_VCN + 0.0106247479571 x_VXC\n",
      " + y_4 >= 0\n",
      "\n",
      "Deviation_Investment_Negative_Relation_5: - 0.0174230789649 x_VAB\n",
      " - 0.00986984537192 x_VBAL - 0.0146976149715 x_VCN - 0.00119119160316 x_VXC\n",
      " + y_5 >= 0\n",
      "\n",
      "Deviation_Investment_Positive_Relation_5: 0.0174230789649 x_VAB\n",
      " + 0.00986984537192 x_VBAL + 0.0146976149715 x_VCN + 0.00119119160316 x_VXC\n",
      " + y_5 >= 0\n",
      "\n",
      "Deviation_Investment_Negative_Relation_6: - 0.00270280950861 x_VAB\n",
      " - 0.0300560561865 x_VBAL - 0.0618007873954 x_VCN - 0.043400346722 x_VXC + y_6\n",
      " >= 0\n",
      "\n",
      "Deviation_Investment_Positive_Relation_6: 0.00270280950861 x_VAB\n",
      " + 0.0300560561865 x_VBAL + 0.0618007873954 x_VCN + 0.043400346722 x_VXC + y_6\n",
      " >= 0\n",
      "\n",
      "Deviation_Investment_Negative_Relation_7: - 0.00745721063141 x_VAB\n",
      " - 0.0353053986067 x_VBAL - 0.0617098696945 x_VCN - 0.0478903218659 x_VXC\n",
      " + y_7 >= 0\n",
      "\n",
      "Deviation_Investment_Positive_Relation_7: 0.00745721063141 x_VAB\n",
      " + 0.0353053986067 x_VBAL + 0.0617098696945 x_VCN + 0.0478903218659 x_VXC\n",
      " + y_7 >= 0\n",
      "\n",
      "Deviation_Investment_Negative_Relation_8: 0.00390961486968 x_VAB\n",
      " + 0.0433821347738 x_VBAL + 0.0809984378164 x_VCN + 0.0573354808984 x_VXC\n",
      " + y_8 >= 0\n",
      "\n",
      "Deviation_Investment_Positive_Relation_8: - 0.00390961486968 x_VAB\n",
      " - 0.0433821347738 x_VBAL - 0.0809984378164 x_VCN - 0.0573354808984 x_VXC\n",
      " + y_8 >= 0\n",
      "\n",
      "Deviation_Investment_Negative_Relation_9: - 0.00160711922373 x_VAB\n",
      " - 0.0103736834747 x_VBAL - 0.0267689952173 x_VCN - 0.0045484102779 x_VXC\n",
      " + y_9 >= 0\n",
      "\n",
      "Deviation_Investment_Positive_Relation_9: 0.00160711922373 x_VAB\n",
      " + 0.0103736834747 x_VBAL + 0.0267689952173 x_VCN + 0.0045484102779 x_VXC\n",
      " + y_9 >= 0\n",
      "\n",
      "Deviation_Investment_Negative_Relation_10: - 0.0162376971316 x_VAB\n",
      " - 0.0191752166434 x_VBAL - 0.0338898205856 x_VCN - 0.0310437463787 x_VXC\n",
      " + y_10 >= 0\n",
      "\n",
      "Deviation_Investment_Positive_Relation_10: 0.0162376971316 x_VAB\n",
      " + 0.0191752166434 x_VBAL + 0.0338898205856 x_VCN + 0.0310437463787 x_VXC\n",
      " + y_10 >= 0\n",
      "\n",
      "Deviation_Investment_Negative_Relation_11: - 0.0316739343685 x_VAB\n",
      " - 0.014660125314 x_VBAL + 0.0125687821048 x_VCN - 0.0123682730304 x_VXC\n",
      " + y_11 >= 0\n",
      "\n",
      "Deviation_Investment_Positive_Relation_11: 0.0316739343685 x_VAB\n",
      " + 0.014660125314 x_VBAL - 0.0125687821048 x_VCN + 0.0123682730304 x_VXC\n",
      " + y_11 >= 0\n",
      "\n",
      "Probability_Simplex: x_VAB + x_VBAL + x_VCN + x_VXC = 1\n",
      "\n",
      "Stocks_Limit: 0.6 x_VBAL + x_VCN + x_VXC <= 0.9\n",
      "\n",
      "Canada_Limit: x_VAB + 0.3 x_VBAL + x_VCN <= 0.8\n",
      "\n",
      "VARIABLES\n",
      "x_VAB Continuous\n",
      "x_VBAL Continuous\n",
      "x_VCN Continuous\n",
      "x_VXC Continuous\n",
      "y_1 Continuous\n",
      "y_10 Continuous\n",
      "y_11 Continuous\n",
      "y_2 Continuous\n",
      "y_3 Continuous\n",
      "y_4 Continuous\n",
      "y_5 Continuous\n",
      "y_6 Continuous\n",
      "y_7 Continuous\n",
      "y_8 Continuous\n",
      "y_9 Continuous\n",
      "\n"
     ]
    }
   ],
   "source": [
    "print(LP_Prob)"
   ]
  },
  {
   "cell_type": "code",
   "execution_count": 34,
   "metadata": {},
   "outputs": [
    {
     "data": {
      "text/plain": [
       "[x_VAB,\n",
       " x_VBAL,\n",
       " x_VCN,\n",
       " x_VXC,\n",
       " y_1,\n",
       " y_10,\n",
       " y_11,\n",
       " y_2,\n",
       " y_3,\n",
       " y_4,\n",
       " y_5,\n",
       " y_6,\n",
       " y_7,\n",
       " y_8,\n",
       " y_9]"
      ]
     },
     "execution_count": 34,
     "metadata": {},
     "output_type": "execute_result"
    }
   ],
   "source": [
    "LP_Prob.writeLP('NewPortfolioProblemParameter0.5.lp')"
   ]
  },
  {
   "cell_type": "code",
   "execution_count": 35,
   "metadata": {},
   "outputs": [
    {
     "data": {
      "text/plain": [
       "1"
      ]
     },
     "execution_count": 35,
     "metadata": {},
     "output_type": "execute_result"
    }
   ],
   "source": [
    "# The Problem is Solved Using PuLP's Choice of Solver.\n",
    "LP_Prob.solve()"
   ]
  },
  {
   "cell_type": "code",
   "execution_count": 36,
   "metadata": {},
   "outputs": [
    {
     "name": "stdout",
     "output_type": "stream",
     "text": [
      "Status: Optimal \n",
      "\n",
      "x_VAB = 0.20554895\n",
      "x_VCN = 0.0\n",
      "x_VXC = 0.39448954\n",
      "x_VBAL = 0.3999615\n",
      "\n",
      "\n",
      "Optimal Value : Z = 0.4890212764694815\n"
     ]
    }
   ],
   "source": [
    "print(f'Status: {LpStatus[LP_Prob.status]} \\n')\n",
    "\n",
    "for j, decision_variable in decision_variables_investment.items() :\n",
    "    print(f'{decision_variable.name} = {decision_variable.varValue}')\n",
    "print('\\n')\n",
    "\n",
    "if (LpStatus[LP_Prob.status] == 'Optimal') :\n",
    "    print(f'Optimal Value : Z = {value(LP_Prob.objective)}')\n",
    "else :\n",
    "    print(f'No Optimal Value. Status Code : {value(LP_Prob.objective)}')"
   ]
  },
  {
   "cell_type": "code",
   "execution_count": 37,
   "metadata": {},
   "outputs": [],
   "source": [
    "### Risk/Return Parameter of 0"
   ]
  },
  {
   "cell_type": "code",
   "execution_count": 38,
   "metadata": {},
   "outputs": [],
   "source": [
    "mu = 0\n",
    "\n",
    "expected_investment_returns = lpSum([mu * mean_returns[j] * decision_variables_investment[j] for j in investments]) \n",
    "monthly_deviation = lpSum([decision_variables_deviation[t] for t in range(1, T + 1)])/T\n",
    "\n",
    "# The Objective Function is Added to 'LP_Prob' First.\n",
    "LP_Prob += expected_investment_returns - monthly_deviation, 'Maximize_Portfolio_Returns'"
   ]
  },
  {
   "cell_type": "code",
   "execution_count": 39,
   "metadata": {},
   "outputs": [
    {
     "name": "stdout",
     "output_type": "stream",
     "text": [
      "Investment_Portfolio_Problem:\n",
      "MAXIMIZE\n",
      "-0.09090909090909091*y_1 + -0.09090909090909091*y_10 + -0.09090909090909091*y_11 + -0.09090909090909091*y_2 + -0.09090909090909091*y_3 + -0.09090909090909091*y_4 + -0.09090909090909091*y_5 + -0.09090909090909091*y_6 + -0.09090909090909091*y_7 + -0.09090909090909091*y_8 + -0.09090909090909091*y_9 + 0.0\n",
      "SUBJECT TO\n",
      "Low_Bound_Deviation_1: y_1 >= 0\n",
      "\n",
      "Low_Bound_Deviation_2: y_2 >= 0\n",
      "\n",
      "Low_Bound_Deviation_3: y_3 >= 0\n",
      "\n",
      "Low_Bound_Deviation_4: y_4 >= 0\n",
      "\n",
      "Low_Bound_Deviation_5: y_5 >= 0\n",
      "\n",
      "Low_Bound_Deviation_6: y_6 >= 0\n",
      "\n",
      "Low_Bound_Deviation_7: y_7 >= 0\n",
      "\n",
      "Low_Bound_Deviation_8: y_8 >= 0\n",
      "\n",
      "Low_Bound_Deviation_9: y_9 >= 0\n",
      "\n",
      "Low_Bound_Deviation_10: y_10 >= 0\n",
      "\n",
      "Low_Bound_Deviation_11: y_11 >= 0\n",
      "\n",
      "Low_Bound_Investment_VAB: x_VAB >= 0\n",
      "\n",
      "Low_Bound_Investment_VCN: x_VCN >= 0\n",
      "\n",
      "Low_Bound_Investment_VXC: x_VXC >= 0\n",
      "\n",
      "Low_Bound_Investment_VBAL: x_VBAL >= 0\n",
      "\n",
      "Deviation_Investment_Negative_Relation_1: 0.0508608170374 x_VAB\n",
      " + 0.063770344306 x_VBAL + 0.0956591563579 x_VCN + 0.0778699509431 x_VXC + y_1\n",
      " >= 0\n",
      "\n",
      "Deviation_Investment_Positive_Relation_1: - 0.0508608170374 x_VAB\n",
      " - 0.063770344306 x_VBAL - 0.0956591563579 x_VCN - 0.0778699509431 x_VXC + y_1\n",
      " >= 0\n",
      "\n",
      "Deviation_Investment_Negative_Relation_2: - 0.00234567166096 x_VAB\n",
      " + 0.00998855046398 x_VBAL + 0.0118991441929 x_VCN + 0.0204260559626 x_VXC\n",
      " + y_2 >= 0\n",
      "\n",
      "Deviation_Investment_Positive_Relation_2: 0.00234567166096 x_VAB\n",
      " - 0.00998855046398 x_VBAL - 0.0118991441929 x_VCN - 0.0204260559626 x_VXC\n",
      " + y_2 >= 0\n",
      "\n",
      "Deviation_Investment_Negative_Relation_3: 0.0120661993276 x_VAB\n",
      " - 0.00169908056328 x_VBAL - 0.00729884568264 x_VCN - 0.00456444996891 x_VXC\n",
      " + y_3 >= 0\n",
      "\n",
      "Deviation_Investment_Positive_Relation_3: - 0.0120661993276 x_VAB\n",
      " + 0.00169908056328 x_VBAL + 0.00729884568264 x_VCN + 0.00456444996891 x_VXC\n",
      " + y_3 >= 0\n",
      "\n",
      "Deviation_Investment_Negative_Relation_4: 0.0126108902549 x_VAB\n",
      " + 0.00399837661666 x_VBAL + 0.00504041307482 x_VCN - 0.0106247479571 x_VXC\n",
      " + y_4 >= 0\n",
      "\n",
      "Deviation_Investment_Positive_Relation_4: - 0.0126108902549 x_VAB\n",
      " - 0.00399837661666 x_VBAL - 0.00504041307482 x_VCN + 0.0106247479571 x_VXC\n",
      " + y_4 >= 0\n",
      "\n",
      "Deviation_Investment_Negative_Relation_5: - 0.0174230789649 x_VAB\n",
      " - 0.00986984537192 x_VBAL - 0.0146976149715 x_VCN - 0.00119119160316 x_VXC\n",
      " + y_5 >= 0\n",
      "\n",
      "Deviation_Investment_Positive_Relation_5: 0.0174230789649 x_VAB\n",
      " + 0.00986984537192 x_VBAL + 0.0146976149715 x_VCN + 0.00119119160316 x_VXC\n",
      " + y_5 >= 0\n",
      "\n",
      "Deviation_Investment_Negative_Relation_6: - 0.00270280950861 x_VAB\n",
      " - 0.0300560561865 x_VBAL - 0.0618007873954 x_VCN - 0.043400346722 x_VXC + y_6\n",
      " >= 0\n",
      "\n",
      "Deviation_Investment_Positive_Relation_6: 0.00270280950861 x_VAB\n",
      " + 0.0300560561865 x_VBAL + 0.0618007873954 x_VCN + 0.043400346722 x_VXC + y_6\n",
      " >= 0\n",
      "\n",
      "Deviation_Investment_Negative_Relation_7: - 0.00745721063141 x_VAB\n",
      " - 0.0353053986067 x_VBAL - 0.0617098696945 x_VCN - 0.0478903218659 x_VXC\n",
      " + y_7 >= 0\n",
      "\n",
      "Deviation_Investment_Positive_Relation_7: 0.00745721063141 x_VAB\n",
      " + 0.0353053986067 x_VBAL + 0.0617098696945 x_VCN + 0.0478903218659 x_VXC\n",
      " + y_7 >= 0\n",
      "\n",
      "Deviation_Investment_Negative_Relation_8: 0.00390961486968 x_VAB\n",
      " + 0.0433821347738 x_VBAL + 0.0809984378164 x_VCN + 0.0573354808984 x_VXC\n",
      " + y_8 >= 0\n",
      "\n",
      "Deviation_Investment_Positive_Relation_8: - 0.00390961486968 x_VAB\n",
      " - 0.0433821347738 x_VBAL - 0.0809984378164 x_VCN - 0.0573354808984 x_VXC\n",
      " + y_8 >= 0\n",
      "\n",
      "Deviation_Investment_Negative_Relation_9: - 0.00160711922373 x_VAB\n",
      " - 0.0103736834747 x_VBAL - 0.0267689952173 x_VCN - 0.0045484102779 x_VXC\n",
      " + y_9 >= 0\n",
      "\n",
      "Deviation_Investment_Positive_Relation_9: 0.00160711922373 x_VAB\n",
      " + 0.0103736834747 x_VBAL + 0.0267689952173 x_VCN + 0.0045484102779 x_VXC\n",
      " + y_9 >= 0\n",
      "\n",
      "Deviation_Investment_Negative_Relation_10: - 0.0162376971316 x_VAB\n",
      " - 0.0191752166434 x_VBAL - 0.0338898205856 x_VCN - 0.0310437463787 x_VXC\n",
      " + y_10 >= 0\n",
      "\n",
      "Deviation_Investment_Positive_Relation_10: 0.0162376971316 x_VAB\n",
      " + 0.0191752166434 x_VBAL + 0.0338898205856 x_VCN + 0.0310437463787 x_VXC\n",
      " + y_10 >= 0\n",
      "\n",
      "Deviation_Investment_Negative_Relation_11: - 0.0316739343685 x_VAB\n",
      " - 0.014660125314 x_VBAL + 0.0125687821048 x_VCN - 0.0123682730304 x_VXC\n",
      " + y_11 >= 0\n",
      "\n",
      "Deviation_Investment_Positive_Relation_11: 0.0316739343685 x_VAB\n",
      " + 0.014660125314 x_VBAL - 0.0125687821048 x_VCN + 0.0123682730304 x_VXC\n",
      " + y_11 >= 0\n",
      "\n",
      "Probability_Simplex: x_VAB + x_VBAL + x_VCN + x_VXC = 1\n",
      "\n",
      "Stocks_Limit: 0.6 x_VBAL + x_VCN + x_VXC <= 0.9\n",
      "\n",
      "Canada_Limit: x_VAB + 0.3 x_VBAL + x_VCN <= 0.8\n",
      "\n",
      "VARIABLES\n",
      "x_VAB Continuous\n",
      "x_VBAL Continuous\n",
      "x_VCN Continuous\n",
      "x_VXC Continuous\n",
      "y_1 Continuous\n",
      "y_10 Continuous\n",
      "y_11 Continuous\n",
      "y_2 Continuous\n",
      "y_3 Continuous\n",
      "y_4 Continuous\n",
      "y_5 Continuous\n",
      "y_6 Continuous\n",
      "y_7 Continuous\n",
      "y_8 Continuous\n",
      "y_9 Continuous\n",
      "\n"
     ]
    }
   ],
   "source": [
    "print(LP_Prob)"
   ]
  },
  {
   "cell_type": "code",
   "execution_count": 40,
   "metadata": {},
   "outputs": [
    {
     "data": {
      "text/plain": [
       "[x_VAB,\n",
       " x_VBAL,\n",
       " x_VCN,\n",
       " x_VXC,\n",
       " y_1,\n",
       " y_10,\n",
       " y_11,\n",
       " y_2,\n",
       " y_3,\n",
       " y_4,\n",
       " y_5,\n",
       " y_6,\n",
       " y_7,\n",
       " y_8,\n",
       " y_9]"
      ]
     },
     "execution_count": 40,
     "metadata": {},
     "output_type": "execute_result"
    }
   ],
   "source": [
    "LP_Prob.writeLP('NewPortfolioProblemParameter0.lp')"
   ]
  },
  {
   "cell_type": "code",
   "execution_count": 41,
   "metadata": {},
   "outputs": [
    {
     "data": {
      "text/plain": [
       "1"
      ]
     },
     "execution_count": 41,
     "metadata": {},
     "output_type": "execute_result"
    }
   ],
   "source": [
    "# The Problem is Solved Using PuLP's Choice of Solver.\n",
    "LP_Prob.solve()"
   ]
  },
  {
   "cell_type": "code",
   "execution_count": 42,
   "metadata": {},
   "outputs": [
    {
     "name": "stdout",
     "output_type": "stream",
     "text": [
      "Status: Optimal \n",
      "\n",
      "x_VAB = 0.71428571\n",
      "x_VCN = 0.0\n",
      "x_VXC = 0.0\n",
      "x_VBAL = 0.28571429\n",
      "\n",
      "\n",
      "Optimal Value : Z = -0.016217919445454546\n"
     ]
    }
   ],
   "source": [
    "print(f'Status: {LpStatus[LP_Prob.status]} \\n')\n",
    "\n",
    "for j, decision_variable in decision_variables_investment.items() :\n",
    "    print(f'{decision_variable.name} = {decision_variable.varValue}')\n",
    "print('\\n')\n",
    "\n",
    "if (LpStatus[LP_Prob.status] == 'Optimal') :\n",
    "    print(f'Optimal Value : Z = {value(LP_Prob.objective)}')\n",
    "else :\n",
    "    print(f'No Optimal Value. Status Code : {value(LP_Prob.objective)}')"
   ]
  }
 ],
 "metadata": {
  "kernelspec": {
   "display_name": "Python 3",
   "language": "python",
   "name": "python3"
  },
  "language_info": {
   "codemirror_mode": {
    "name": "ipython",
    "version": 3
   },
   "file_extension": ".py",
   "mimetype": "text/x-python",
   "name": "python",
   "nbconvert_exporter": "python",
   "pygments_lexer": "ipython3",
   "version": "3.8.6"
  },
  "metadata": {
   "interpreter": {
    "hash": "ccbfd18ffe2ed7a304e124dd5c4926bb0ce32d27abc45b5b38cf8edbd938df1a"
   }
  }
 },
 "nbformat": 4,
 "nbformat_minor": 4
}
