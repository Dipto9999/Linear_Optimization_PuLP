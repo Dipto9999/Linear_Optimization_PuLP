{
 "cells": [
  {
   "cell_type": "markdown",
   "metadata": {},
   "source": [
    "# Homework 4 (Question 2)"
   ]
  },
  {
   "cell_type": "code",
   "execution_count": 1,
   "metadata": {},
   "outputs": [
    {
     "name": "stdout",
     "output_type": "stream",
     "text": [
      "Requirement already satisfied: pulp in c:\\users\\muntakim\\appdata\\local\\programs\\python\\python38-32\\lib\\site-packages (2.4)\n",
      "Requirement already satisfied: amply>=0.1.2 in c:\\users\\muntakim\\appdata\\local\\programs\\python\\python38-32\\lib\\site-packages (from pulp) (0.1.4)\n",
      "Requirement already satisfied: docutils>=0.3 in c:\\users\\muntakim\\appdata\\local\\programs\\python\\python38-32\\lib\\site-packages (from amply>=0.1.2->pulp) (0.17.1)\n",
      "Requirement already satisfied: pyparsing in c:\\users\\muntakim\\appdata\\local\\programs\\python\\python38-32\\lib\\site-packages (from amply>=0.1.2->pulp) (2.4.7)\n"
     ]
    }
   ],
   "source": [
    "import sys\n",
    "!{sys.executable} -m pip install pulp"
   ]
  },
  {
   "cell_type": "code",
   "execution_count": 2,
   "metadata": {},
   "outputs": [],
   "source": [
    "import pulp\n",
    "from pulp import *"
   ]
  },
  {
   "cell_type": "code",
   "execution_count": 3,
   "metadata": {},
   "outputs": [
    {
     "data": {
      "text/plain": [
       "'\\nConstraint Problem\\n\\nAuthor : Muntakim Rahman 2021\\n'"
      ]
     },
     "execution_count": 3,
     "metadata": {},
     "output_type": "execute_result"
    }
   ],
   "source": [
    "\"\"\"\n",
    "Constraint Problem\n",
    "\n",
    "Author : Muntakim Rahman 2021\n",
    "\"\"\""
   ]
  },
  {
   "cell_type": "markdown",
   "metadata": {},
   "source": [
    "## Homework Problem\n",
    "\n",
    "Consider the $m\\times n$-matrix $A$ and the vector $\\vec b \\in R^m$ that are given by\n",
    "\n",
    "\\begin{align*}\n",
    "    A= [a_{ij}], \n",
    "    \\qquad \\vec b = [ b_i]\n",
    "\\end{align*}\n",
    "\n",
    "where\n",
    "\n",
    "\\begin{align*}\n",
    "    a_{ij} = (-2)^{i+j} (i^2 - j^2),  \n",
    "    \\qquad b_i = (-2)^i    \n",
    "    \\quad \\hbox {for $i=1, \\cdots m$ and $j=1, \\cdots , n$.}\n",
    "\\end{align*}\n",
    "\n",
    "Note that $a_{ij}$ is the entry of $A$ at the $i$-th row and the $j$-th column. \n",
    "\n",
    "Consider the following condition on vectors $\\vec x \\in R^n$:   \n",
    "\n",
    "\\begin{align*}\n",
    "    {\\rm (Condition1)} & \n",
    "    \\quad \\quad A \\vec x \\le \\vec b \n",
    "    \\quad \\& \n",
    "    \\quad \\vec x \\ge \\vec 0.\n",
    "\\end{align*}\n",
    "\n",
    "Check whether there is a vector $\\vec x \\in R^n$ that satisfies (Condition1), when $m=n=10$, and when $m=n=20$.\n",
    "If the vector exists, solve for it. "
   ]
  },
  {
   "cell_type": "markdown",
   "metadata": {},
   "source": [
    "### Constraint Problem\n",
    "\n",
    "\\begin{align*} \n",
    "    {\\rm Maximize} \\quad -w_o \\\\\n",
    "    {\\rm Subject \\hspace{1mm} to} \\quad \\quad A \\vec x  + \\vec w_o \\le \\vec b \\\\\n",
    "                                    \\quad \\vec x \\ge \\vec 0 \\\\\n",
    "                                    \\quad \\vec w_o \\ge 0. \\\\\n",
    "\\end{align*}\n",
    "\n",
    "<br/>\n",
    "\n",
    "\\begin{align*} \n",
    "    {\\rm Where} \n",
    "        \\qquad A= [a_{ij}], \\qquad \\vec b = [ b_i], \\\\\n",
    "        \\qquad a_{ij} = (-2)^{i+j} (i^2 - j^2), \\\\ \n",
    "        \\qquad b_i = (-2)^i, \\\\\n",
    "        \\quad \\hbox {$i=1, \\cdots , m \\qquad j=1, \\cdots , n$.} \\\\ \\\\\n",
    "        \\qquad \\vec w_o = [{w_o}_i] \\hspace{1mm} represents \\hspace{1mm} auxiliary \\hspace{1mm} variable. \\\\                    \n",
    "\\end{align*}"
   ]
  },
  {
   "cell_type": "markdown",
   "metadata": {},
   "source": [
    "### Check if Constraint Satisfied When M = N = 10"
   ]
  },
  {
   "cell_type": "code",
   "execution_count": 4,
   "metadata": {},
   "outputs": [],
   "source": [
    "M = 10\n",
    "N = 10"
   ]
  },
  {
   "cell_type": "code",
   "execution_count": 5,
   "metadata": {},
   "outputs": [],
   "source": [
    "A = [[(-2)**(i+j) * (i**2 - j**2) for j in range(1, N + 1)] for i in range(1, M + 1)]\n",
    "b = [(-2)**i for i in range(1, M + 1)]"
   ]
  },
  {
   "cell_type": "code",
   "execution_count": 6,
   "metadata": {},
   "outputs": [
    {
     "name": "stdout",
     "output_type": "stream",
     "text": [
      "Matrix A\n",
      "[0, 24, -128, 480, -1536, 4480, -12288, 32256, -81920, 202752]\n",
      "[-24, 0, 160, -768, 2688, -8192, 23040, -61440, 157696, -393216]\n",
      "[128, -160, 0, 896, -4096, 13824, -40960, 112640, -294912, 745472]\n",
      "[-480, 768, -896, 0, 4608, -20480, 67584, -196608, 532480, -1376256]\n",
      "[1536, -2688, 4096, -4608, 0, 22528, -98304, 319488, -917504, 2457600]\n",
      "[-4480, 8192, -13824, 20480, -22528, 0, 106496, -458752, 1474560, -4194304]\n",
      "[12288, -23040, 40960, -67584, 98304, -106496, 0, 491520, -2097152, 6684672]\n",
      "[-32256, 61440, -112640, 196608, -319488, 458752, -491520, 0, 2228224, -9437184]\n",
      "[81920, -157696, 294912, -532480, 917504, -1474560, 2097152, -2228224, 0, 9961472]\n",
      "[-202752, 393216, -745472, 1376256, -2457600, 4194304, -6684672, 9437184, -9961472, 0]\n",
      "\n",
      "\n",
      "Vector b\n",
      "[-2, 4, -8, 16, -32, 64, -128, 256, -512, 1024]\n"
     ]
    }
   ],
   "source": [
    "## Print Condition Variables -> Mainly for Debugging Purposes.\n",
    "print('Matrix A')\n",
    "for i in range(M) :\n",
    "    print(A[i])\n",
    "\n",
    "print('\\n')\n",
    "\n",
    "print('Vector b')\n",
    "print(b)"
   ]
  },
  {
   "cell_type": "code",
   "execution_count": 7,
   "metadata": {},
   "outputs": [
    {
     "name": "stdout",
     "output_type": "stream",
     "text": [
      "[x_1, x_2, x_3, x_4, x_5, x_6, x_7, x_8, x_9, x_10]\n"
     ]
    }
   ],
   "source": [
    "decision_variables = []\n",
    "\n",
    "for i in range(1, M + 1) :\n",
    "    current_variable = LpVariable(name = 'x_' + str(i), lowBound = 0, cat = LpContinuous)\n",
    "    decision_variables.append(current_variable)\n",
    "\n",
    "## Print Decision Variables -> Mainly for Debugging Purposes.\n",
    "print(decision_variables)\n",
    "\n",
    "aux_variable = LpVariable(name = 'Auxiliary_Variable', lowBound = 0)"
   ]
  },
  {
   "cell_type": "code",
   "execution_count": 8,
   "metadata": {},
   "outputs": [],
   "source": [
    "# Check if there is a feasible solution to the LP Problem by using Phase One of the Two Phase Simplex Method.\n",
    "LP_Prob_Aux = LpProblem(name = 'Constraint_Problem', sense = LpMaximize)\n",
    "\n",
    "# The Objective Function is Added to 'LP_Prob_Aux' First.\n",
    "LP_Prob_Aux += - aux_variable, 'Auxiliary_Problem'"
   ]
  },
  {
   "cell_type": "code",
   "execution_count": 9,
   "metadata": {},
   "outputs": [],
   "source": [
    "# The Constraints are Added to 'LP_Prob_Aux'\n",
    "for i in range(M) :\n",
    "    LP_Prob_Aux += lpSum([A[i][j] * decision_variables[j] for j in range(N)]) + aux_variable <= b[i], f'Constraint_{i + 1}'"
   ]
  },
  {
   "cell_type": "code",
   "execution_count": 10,
   "metadata": {},
   "outputs": [
    {
     "name": "stdout",
     "output_type": "stream",
     "text": [
      "Constraint_Problem:\n",
      "MAXIMIZE\n",
      "-1*Auxiliary_Variable + 0\n",
      "SUBJECT TO\n",
      "Constraint_1: Auxiliary_Variable + 202752 x_10 + 24 x_2 - 128 x_3 + 480 x_4\n",
      " - 1536 x_5 + 4480 x_6 - 12288 x_7 + 32256 x_8 - 81920 x_9 <= -2\n",
      "\n",
      "Constraint_2: Auxiliary_Variable - 24 x_1 - 393216 x_10 + 160 x_3 - 768 x_4\n",
      " + 2688 x_5 - 8192 x_6 + 23040 x_7 - 61440 x_8 + 157696 x_9 <= 4\n",
      "\n",
      "Constraint_3: Auxiliary_Variable + 128 x_1 + 745472 x_10 - 160 x_2 + 896 x_4\n",
      " - 4096 x_5 + 13824 x_6 - 40960 x_7 + 112640 x_8 - 294912 x_9 <= -8\n",
      "\n",
      "Constraint_4: Auxiliary_Variable - 480 x_1 - 1376256 x_10 + 768 x_2 - 896 x_3\n",
      " + 4608 x_5 - 20480 x_6 + 67584 x_7 - 196608 x_8 + 532480 x_9 <= 16\n",
      "\n",
      "Constraint_5: Auxiliary_Variable + 1536 x_1 + 2457600 x_10 - 2688 x_2\n",
      " + 4096 x_3 - 4608 x_4 + 22528 x_6 - 98304 x_7 + 319488 x_8 - 917504 x_9\n",
      " <= -32\n",
      "\n",
      "Constraint_6: Auxiliary_Variable - 4480 x_1 - 4194304 x_10 + 8192 x_2\n",
      " - 13824 x_3 + 20480 x_4 - 22528 x_5 + 106496 x_7 - 458752 x_8 + 1474560 x_9\n",
      " <= 64\n",
      "\n",
      "Constraint_7: Auxiliary_Variable + 12288 x_1 + 6684672 x_10 - 23040 x_2\n",
      " + 40960 x_3 - 67584 x_4 + 98304 x_5 - 106496 x_6 + 491520 x_8 - 2097152 x_9\n",
      " <= -128\n",
      "\n",
      "Constraint_8: Auxiliary_Variable - 32256 x_1 - 9437184 x_10 + 61440 x_2\n",
      " - 112640 x_3 + 196608 x_4 - 319488 x_5 + 458752 x_6 - 491520 x_7\n",
      " + 2228224 x_9 <= 256\n",
      "\n",
      "Constraint_9: Auxiliary_Variable + 81920 x_1 + 9961472 x_10 - 157696 x_2\n",
      " + 294912 x_3 - 532480 x_4 + 917504 x_5 - 1474560 x_6 + 2097152 x_7\n",
      " - 2228224 x_8 <= -512\n",
      "\n",
      "Constraint_10: Auxiliary_Variable - 202752 x_1 + 393216 x_2 - 745472 x_3\n",
      " + 1376256 x_4 - 2457600 x_5 + 4194304 x_6 - 6684672 x_7 + 9437184 x_8\n",
      " - 9961472 x_9 <= 1024\n",
      "\n",
      "VARIABLES\n",
      "Auxiliary_Variable Continuous\n",
      "x_1 Continuous\n",
      "x_10 Continuous\n",
      "x_2 Continuous\n",
      "x_3 Continuous\n",
      "x_4 Continuous\n",
      "x_5 Continuous\n",
      "x_6 Continuous\n",
      "x_7 Continuous\n",
      "x_8 Continuous\n",
      "x_9 Continuous\n",
      "\n"
     ]
    }
   ],
   "source": [
    "print(LP_Prob_Aux)"
   ]
  },
  {
   "cell_type": "code",
   "execution_count": 11,
   "metadata": {},
   "outputs": [
    {
     "data": {
      "text/plain": [
       "[Auxiliary_Variable, x_1, x_10, x_2, x_3, x_4, x_5, x_6, x_7, x_8, x_9]"
      ]
     },
     "execution_count": 11,
     "metadata": {},
     "output_type": "execute_result"
    }
   ],
   "source": [
    "LP_Prob_Aux.writeLP('ConstraintProblem_M_N_10.lp')"
   ]
  },
  {
   "cell_type": "code",
   "execution_count": 12,
   "metadata": {},
   "outputs": [
    {
     "data": {
      "text/plain": [
       "1"
      ]
     },
     "execution_count": 12,
     "metadata": {},
     "output_type": "execute_result"
    }
   ],
   "source": [
    "# The Problem is Solved Using PuLP's Choice of Solver.\n",
    "LP_Prob_Aux.solve()"
   ]
  },
  {
   "cell_type": "code",
   "execution_count": 13,
   "metadata": {},
   "outputs": [
    {
     "name": "stdout",
     "output_type": "stream",
     "text": [
      "Status: Optimal \n",
      "\n",
      "Auxiliary_Variable = 0.0\n",
      "x_1 = 0.0\n",
      "x_10 = 0.0\n",
      "x_2 = 0.0032467532\n",
      "x_3 = 0.0\n",
      "x_4 = 0.0\n",
      "x_5 = 0.0\n",
      "x_6 = 0.0\n",
      "x_7 = 0.0\n",
      "x_8 = 0.0\n",
      "x_9 = 2.536526e-05\n",
      "\n",
      "\n",
      "Optimal Value : Z = 0.0\n",
      "The Original LP Problem is feasible.\n"
     ]
    }
   ],
   "source": [
    "print(f'Status: {LpStatus[LP_Prob_Aux.status]} \\n')\n",
    "\n",
    "for variable in LP_Prob_Aux.variables() :\n",
    "    print(f'{variable.name} = {variable.varValue}')\n",
    "print('\\n')\n",
    "\n",
    "if (LpStatus[LP_Prob_Aux.status] == 'Optimal') :\n",
    "    print(f'Optimal Value : Z = {value(LP_Prob_Aux.objective)}')\n",
    "    if (value(LP_Prob_Aux.objective) == 0) :\n",
    "        print ('The Original LP Problem is feasible.')\n",
    "    else :\n",
    "        print ('The Original LP Problem is not feasible.')\n",
    "else :\n",
    "    print(f'No Optimal Value. Status Code : {value(LP_Prob_Aux.objective)}')"
   ]
  },
  {
   "cell_type": "markdown",
   "metadata": {},
   "source": [
    "### Check if Constraint Satisfied When M = N = 20\n"
   ]
  },
  {
   "cell_type": "code",
   "execution_count": 14,
   "metadata": {},
   "outputs": [],
   "source": [
    "M = 20\n",
    "N = 20"
   ]
  },
  {
   "cell_type": "code",
   "execution_count": 15,
   "metadata": {},
   "outputs": [],
   "source": [
    "A = [[(-2)**(i+j) * (i**2 - j**2) for j in range(1, N + 1)] for i in range(1, M + 1)]\n",
    "b = [(-2)**i for i in range(1, M + 1)]"
   ]
  },
  {
   "cell_type": "code",
   "execution_count": 16,
   "metadata": {},
   "outputs": [
    {
     "name": "stdout",
     "output_type": "stream",
     "text": [
      "[x_1, x_2, x_3, x_4, x_5, x_6, x_7, x_8, x_9, x_10, x_11, x_12, x_13, x_14, x_15, x_16, x_17, x_18, x_19, x_20]\n"
     ]
    }
   ],
   "source": [
    "decision_variables = []\n",
    "\n",
    "for i in range(1, M + 1) :\n",
    "    current_variable = LpVariable(name = 'x_' + str(i), lowBound = 0, cat = LpContinuous)\n",
    "    decision_variables.append(current_variable)\n",
    "\n",
    "## Print Decision Variables -> Mainly for Debugging Purposes.\n",
    "print(decision_variables)\n",
    "\n",
    "aux_variable = LpVariable(name = 'Auxiliary_Variable', lowBound = 0)"
   ]
  },
  {
   "cell_type": "code",
   "execution_count": 17,
   "metadata": {},
   "outputs": [],
   "source": [
    "# Check if there is a feasible solution to the LP Problem by using Phase One of the Two Phase Simplex Method.\n",
    "LP_Prob_Aux = LpProblem(name = 'Constraint_Problem', sense = LpMaximize)\n",
    "\n",
    "# The Objective Function is Added to 'LP_Prob_Aux' First.\n",
    "LP_Prob_Aux += - aux_variable, 'Auxiliary_Problem'"
   ]
  },
  {
   "cell_type": "code",
   "execution_count": 18,
   "metadata": {},
   "outputs": [],
   "source": [
    "# The Constraints are Added to 'LP_Prob_Aux'\n",
    "for i in range(M) :\n",
    "    LP_Prob_Aux += lpSum([A[i][j] * decision_variables[j] for j in range(N)]) + aux_variable <= b[i], f'Constraint_{i + 1}'"
   ]
  },
  {
   "cell_type": "code",
   "execution_count": 19,
   "metadata": {},
   "outputs": [
    {
     "name": "stdout",
     "output_type": "stream",
     "text": [
      "Constraint_Problem:\n",
      "MAXIMIZE\n",
      "-1*Auxiliary_Variable + 0\n",
      "SUBJECT TO\n",
      "Constraint_1: Auxiliary_Variable + 202752 x_10 - 491520 x_11 + 1171456 x_12\n",
      " - 2752512 x_13 + 6389760 x_14 - 14680064 x_15 + 33423360 x_16 - 75497472 x_17\n",
      " + 169345024 x_18 - 377487360 x_19 + 24 x_2 + 836763648 x_20 - 128 x_3\n",
      " + 480 x_4 - 1536 x_5 + 4480 x_6 - 12288 x_7 + 32256 x_8 - 81920 x_9 <= -2\n",
      "\n",
      "Constraint_2: Auxiliary_Variable - 24 x_1 - 393216 x_10 + 958464 x_11\n",
      " - 2293760 x_12 + 5406720 x_13 - 12582912 x_14 + 28966912 x_15 - 66060288 x_16\n",
      " + 149422080 x_17 - 335544320 x_18 + 748683264 x_19 - 1660944384 x_20\n",
      " + 160 x_3 - 768 x_4 + 2688 x_5 - 8192 x_6 + 23040 x_7 - 61440 x_8\n",
      " + 157696 x_9 <= 4\n",
      "\n",
      "Constraint_3: Auxiliary_Variable + 128 x_1 + 745472 x_10 - 1835008 x_11\n",
      " + 4423680 x_12 - 10485760 x_13 + 24510464 x_14 - 56623104 x_15\n",
      " + 129499136 x_16 - 293601280 x_17 + 660602880 x_18 - 1476395008 x_19\n",
      " - 160 x_2 + 3279945728 x_20 + 896 x_4 - 4096 x_5 + 13824 x_6 - 40960 x_7\n",
      " + 112640 x_8 - 294912 x_9 <= -8\n",
      "\n",
      "Constraint_4: Auxiliary_Variable - 480 x_1 - 1376256 x_10 + 3440640 x_11\n",
      " - 8388608 x_12 + 20054016 x_13 - 47185920 x_14 + 109576192 x_15\n",
      " - 251658240 x_16 + 572522496 x_17 - 1291845632 x_18 + 2894069760 x_19\n",
      " + 768 x_2 - 6442450944 x_20 - 896 x_3 + 4608 x_5 - 20480 x_6 + 67584 x_7\n",
      " - 196608 x_8 + 532480 x_9 <= 16\n",
      "\n",
      "Constraint_5: Auxiliary_Variable + 1536 x_1 + 2457600 x_10 - 6291456 x_11\n",
      " + 15597568 x_12 - 37748736 x_13 + 89653248 x_14 - 209715200 x_15\n",
      " + 484442112 x_16 - 1107296256 x_17 + 2508193792 x_18 - 5637144576 x_19\n",
      " - 2688 x_2 + 12582912000 x_20 + 4096 x_3 - 4608 x_4 + 22528 x_6 - 98304 x_7\n",
      " + 319488 x_8 - 917504 x_9 <= -32\n",
      "\n",
      "Constraint_6: Auxiliary_Variable - 4480 x_1 - 4194304 x_10 + 11141120 x_11\n",
      " - 28311552 x_12 + 69730304 x_13 - 167772160 x_14 + 396361728 x_15\n",
      " - 922746880 x_16 + 2122317824 x_17 - 4831838208 x_18 + 10905190400 x_19\n",
      " + 8192 x_2 - 24427626496 x_20 - 13824 x_3 + 20480 x_4 - 22528 x_5\n",
      " + 106496 x_7 - 458752 x_8 + 1474560 x_9 <= 64\n",
      "\n",
      "Constraint_7: Auxiliary_Variable + 12288 x_1 + 6684672 x_10 - 18874368 x_11\n",
      " + 49807360 x_12 - 125829120 x_13 + 308281344 x_14 - 738197504 x_15\n",
      " + 1736441856 x_16 - 4026531840 x_17 + 9227468800 x_18 - 20937965568 x_19\n",
      " - 23040 x_2 + 47110422528 x_20 + 40960 x_3 - 67584 x_4 + 98304 x_5\n",
      " - 106496 x_6 + 491520 x_8 - 2097152 x_9 <= -128\n",
      "\n",
      "Constraint_8: Auxiliary_Variable - 32256 x_1 - 9437184 x_10 + 29884416 x_11\n",
      " - 83886080 x_12 + 220200960 x_13 - 553648128 x_14 + 1350565888 x_15\n",
      " - 3221225472 x_16 + 7549747200 x_17 - 17448304640 x_18 + 39862665216 x_19\n",
      " + 61440 x_2 - 90194313216 x_20 - 112640 x_3 + 196608 x_4 - 319488 x_5\n",
      " + 458752 x_6 - 491520 x_7 + 2228224 x_9 <= 256\n",
      "\n",
      "Constraint_9: Auxiliary_Variable + 81920 x_1 + 9961472 x_10 - 41943040 x_11\n",
      " + 132120576 x_12 - 369098752 x_13 + 964689920 x_14 - 2415919104 x_15\n",
      " + 5872025600 x_16 - 13958643712 x_17 + 32614907904 x_18 - 75161927680 x_19\n",
      " - 157696 x_2 + 171261820928 x_20 + 294912 x_3 - 532480 x_4 + 917504 x_5\n",
      " - 1474560 x_6 + 2097152 x_7 - 2228224 x_8 <= -512\n",
      "\n",
      "Constraint_10: Auxiliary_Variable - 202752 x_1 + 44040192 x_11\n",
      " - 184549376 x_12 + 578813952 x_13 - 1610612736 x_14 + 4194304000 x_15\n",
      " - 10468982784 x_16 + 25367150592 x_17 - 60129542144 x_18 + 140123308032 x_19\n",
      " + 393216 x_2 - 322122547200 x_20 - 745472 x_3 + 1376256 x_4 - 2457600 x_5\n",
      " + 4194304 x_6 - 6684672 x_7 + 9437184 x_8 - 9961472 x_9 <= 1024\n",
      "\n",
      "Constraint_11: Auxiliary_Variable + 491520 x_1 - 44040192 x_10\n",
      " + 192937984 x_12 - 805306368 x_13 + 2516582400 x_14 - 6979321856 x_15\n",
      " + 18119393280 x_16 - 45097156608 x_17 + 108984795136 x_18 - 257698037760 x_19\n",
      " - 958464 x_2 + 599147937792 x_20 + 1835008 x_3 - 3440640 x_4 + 6291456 x_5\n",
      " - 11141120 x_6 + 18874368 x_7 - 29884416 x_8 + 41943040 x_9 <= -2048\n",
      "\n",
      "Constraint_12: Auxiliary_Variable - 1171456 x_1 + 184549376 x_10\n",
      " - 192937984 x_11 + 838860800 x_13 - 3489660928 x_14 + 10871635968 x_15\n",
      " - 30064771072 x_16 + 77846282240 x_17 - 193273528320 x_18 + 466003951616 x_19\n",
      " + 2293760 x_2 - 1.09951162778e+12 x_20 - 4423680 x_3 + 8388608 x_4\n",
      " - 15597568 x_5 + 28311552 x_6 - 49807360 x_7 + 83886080 x_8 - 132120576 x_9\n",
      " <= 4096\n",
      "\n",
      "Constraint_13: Auxiliary_Variable + 2752512 x_1 - 578813952 x_10\n",
      " + 805306368 x_11 - 838860800 x_12 + 3623878656 x_14 - 15032385536 x_15\n",
      " + 46707769344 x_16 - 128849018880 x_17 + 332859965440 x_18\n",
      " - 824633720832 x_19 - 5406720 x_2 + 1.98427489075e+12 x_20 + 10485760 x_3\n",
      " - 20054016 x_4 + 37748736 x_5 - 69730304 x_6 + 125829120 x_7 - 220200960 x_8\n",
      " + 369098752 x_9 <= -8192\n",
      "\n",
      "Constraint_14: Auxiliary_Variable - 6389760 x_1 + 1610612736 x_10\n",
      " - 2516582400 x_11 + 3489660928 x_12 - 3623878656 x_13 + 15569256448 x_15\n",
      " - 64424509440 x_16 + 199715979264 x_17 - 549755813888 x_18\n",
      " + 1.41733920768e+12 x_19 + 12582912 x_2 - 3.50469331354e+12 x_20\n",
      " - 24510464 x_3 + 47185920 x_4 - 89653248 x_5 + 167772160 x_6 - 308281344 x_7\n",
      " + 553648128 x_8 - 964689920 x_9 <= 16384\n",
      "\n",
      "Constraint_15: Auxiliary_Variable + 14680064 x_1 - 4194304000 x_10\n",
      " + 6979321856 x_11 - 10871635968 x_12 + 15032385536 x_13 - 15569256448 x_14\n",
      " + 66571993088 x_16 - 274877906944 x_17 + 850403524608 x_18\n",
      " - 2.33646220902e+12 x_19 - 28966912 x_2 + 6.0129542144e+12 x_20\n",
      " + 56623104 x_3 - 109576192 x_4 + 209715200 x_5 - 396361728 x_6\n",
      " + 738197504 x_7 - 1350565888 x_8 + 2415919104 x_9 <= -32768\n",
      "\n",
      "Constraint_16: Auxiliary_Variable - 33423360 x_1 + 10468982784 x_10\n",
      " - 18119393280 x_11 + 30064771072 x_12 - 46707769344 x_13 + 64424509440 x_14\n",
      " - 66571993088 x_15 + 283467841536 x_17 - 1.16823110451e+12 x_18\n",
      " + 3.60777252864e+12 x_19 + 66060288 x_2 - 9.89560464998e+12 x_20\n",
      " - 129499136 x_3 + 251658240 x_4 - 484442112 x_5 + 922746880 x_6\n",
      " - 1736441856 x_7 + 3221225472 x_8 - 5872025600 x_9 <= 65536\n",
      "\n",
      "Constraint_17: Auxiliary_Variable + 75497472 x_1 - 25367150592 x_10\n",
      " + 45097156608 x_11 - 77846282240 x_12 + 128849018880 x_13 - 199715979264 x_14\n",
      " + 274877906944 x_15 - 283467841536 x_16 + 1.20259084288e+12 x_18\n",
      " - 4.94780232499e+12 x_19 - 149422080 x_2 + 1.52557238354e+13 x_20\n",
      " + 293601280 x_3 - 572522496 x_4 + 1107296256 x_5 - 2122317824 x_6\n",
      " + 4026531840 x_7 - 7549747200 x_8 + 13958643712 x_9 <= -131072\n",
      "\n",
      "Constraint_18: Auxiliary_Variable - 169345024 x_1 + 60129542144 x_10\n",
      " - 108984795136 x_11 + 193273528320 x_12 - 332859965440 x_13\n",
      " + 549755813888 x_14 - 850403524608 x_15 + 1.16823110451e+12 x_16\n",
      " - 1.20259084288e+12 x_17 + 5.08524127846e+12 x_19 + 335544320 x_2\n",
      " - 2.08907209277e+13 x_20 - 660602880 x_3 + 1291845632 x_4 - 2508193792 x_5\n",
      " + 4831838208 x_6 - 9227468800 x_7 + 17448304640 x_8 - 32614907904 x_9\n",
      " <= 262144\n",
      "\n",
      "Constraint_19: Auxiliary_Variable + 377487360 x_1 - 140123308032 x_10\n",
      " + 257698037760 x_11 - 466003951616 x_12 + 824633720832 x_13\n",
      " - 1.41733920768e+12 x_14 + 2.33646220902e+12 x_15 - 3.60777252864e+12 x_16\n",
      " + 4.94780232499e+12 x_17 - 5.08524127846e+12 x_18 - 748683264 x_2\n",
      " + 2.14404767416e+13 x_20 + 1476395008 x_3 - 2894069760 x_4 + 5637144576 x_5\n",
      " - 10905190400 x_6 + 20937965568 x_7 - 39862665216 x_8 + 75161927680 x_9\n",
      " <= -524288\n",
      "\n",
      "Constraint_20: Auxiliary_Variable - 836763648 x_1 + 322122547200 x_10\n",
      " - 599147937792 x_11 + 1.09951162778e+12 x_12 - 1.98427489075e+12 x_13\n",
      " + 3.50469331354e+12 x_14 - 6.0129542144e+12 x_15 + 9.89560464998e+12 x_16\n",
      " - 1.52557238354e+13 x_17 + 2.08907209277e+13 x_18 - 2.14404767416e+13 x_19\n",
      " + 1660944384 x_2 - 3279945728 x_3 + 6442450944 x_4 - 12582912000 x_5\n",
      " + 24427626496 x_6 - 47110422528 x_7 + 90194313216 x_8 - 171261820928 x_9\n",
      " <= 1048576\n",
      "\n",
      "VARIABLES\n",
      "Auxiliary_Variable Continuous\n",
      "x_1 Continuous\n",
      "x_10 Continuous\n",
      "x_11 Continuous\n",
      "x_12 Continuous\n",
      "x_13 Continuous\n",
      "x_14 Continuous\n",
      "x_15 Continuous\n",
      "x_16 Continuous\n",
      "x_17 Continuous\n",
      "x_18 Continuous\n",
      "x_19 Continuous\n",
      "x_2 Continuous\n",
      "x_20 Continuous\n",
      "x_3 Continuous\n",
      "x_4 Continuous\n",
      "x_5 Continuous\n",
      "x_6 Continuous\n",
      "x_7 Continuous\n",
      "x_8 Continuous\n",
      "x_9 Continuous\n",
      "\n"
     ]
    }
   ],
   "source": [
    "print(LP_Prob_Aux)"
   ]
  },
  {
   "cell_type": "code",
   "execution_count": 20,
   "metadata": {},
   "outputs": [
    {
     "data": {
      "text/plain": [
       "[Auxiliary_Variable,\n",
       " x_1,\n",
       " x_10,\n",
       " x_11,\n",
       " x_12,\n",
       " x_13,\n",
       " x_14,\n",
       " x_15,\n",
       " x_16,\n",
       " x_17,\n",
       " x_18,\n",
       " x_19,\n",
       " x_2,\n",
       " x_20,\n",
       " x_3,\n",
       " x_4,\n",
       " x_5,\n",
       " x_6,\n",
       " x_7,\n",
       " x_8,\n",
       " x_9]"
      ]
     },
     "execution_count": 20,
     "metadata": {},
     "output_type": "execute_result"
    }
   ],
   "source": [
    "LP_Prob_Aux.writeLP('ConstraintProblem_M_N_20.lp')"
   ]
  },
  {
   "cell_type": "code",
   "execution_count": 21,
   "metadata": {},
   "outputs": [
    {
     "data": {
      "text/plain": [
       "1"
      ]
     },
     "execution_count": 21,
     "metadata": {},
     "output_type": "execute_result"
    }
   ],
   "source": [
    "# The Problem is Solved Using PuLP's Choice of Solver.\n",
    "LP_Prob_Aux.solve()"
   ]
  },
  {
   "cell_type": "code",
   "execution_count": 22,
   "metadata": {},
   "outputs": [
    {
     "name": "stdout",
     "output_type": "stream",
     "text": [
      "Status: Optimal \n",
      "\n",
      "Auxiliary_Variable = 0.0\n",
      "x_1 = 0.0\n",
      "x_10 = 0.0\n",
      "x_11 = 0.0\n",
      "x_12 = 0.0\n",
      "x_13 = 0.0\n",
      "x_14 = 0.0\n",
      "x_15 = 0.0\n",
      "x_16 = 0.0\n",
      "x_17 = 2.6769805e-08\n",
      "x_18 = 0.0\n",
      "x_19 = 0.0\n",
      "x_2 = 0.00087719298\n",
      "x_20 = 0.0\n",
      "x_3 = 0.0\n",
      "x_4 = 0.0\n",
      "x_5 = 0.0\n",
      "x_6 = 0.0\n",
      "x_7 = 0.0\n",
      "x_8 = 0.0\n",
      "x_9 = 0.0\n",
      "\n",
      "\n",
      "Optimal Value : Z = 0.0\n",
      "The Original LP Problem is feasible.\n"
     ]
    }
   ],
   "source": [
    "print(f'Status: {LpStatus[LP_Prob_Aux.status]} \\n')\n",
    "\n",
    "for variable in LP_Prob_Aux.variables() :\n",
    "    print(f'{variable.name} = {variable.varValue}')\n",
    "print('\\n')\n",
    "\n",
    "if (LpStatus[LP_Prob_Aux.status] == 'Optimal') :\n",
    "    print(f'Optimal Value : Z = {value(LP_Prob_Aux.objective)}')\n",
    "    if (value(LP_Prob_Aux.objective) == 0) :\n",
    "        print ('The Original LP Problem is feasible.')\n",
    "    else :\n",
    "        print ('The Original LP Problem is not feasible.')\n",
    "else :\n",
    "    print(f'No Optimal Value. Status Code : {value(LP_Prob_Aux.objective)}')"
   ]
  }
 ],
 "metadata": {
  "kernelspec": {
   "display_name": "Python 3",
   "language": "python",
   "name": "python3"
  },
  "language_info": {
   "codemirror_mode": {
    "name": "ipython",
    "version": 3
   },
   "file_extension": ".py",
   "mimetype": "text/x-python",
   "name": "python",
   "nbconvert_exporter": "python",
   "pygments_lexer": "ipython3",
   "version": "3.8.6"
  },
  "metadata": {
   "interpreter": {
    "hash": "ccbfd18ffe2ed7a304e124dd5c4926bb0ce32d27abc45b5b38cf8edbd938df1a"
   }
  }
 },
 "nbformat": 4,
 "nbformat_minor": 4
}
