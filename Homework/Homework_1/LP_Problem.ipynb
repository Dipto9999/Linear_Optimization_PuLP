{
 "cells": [
  {
   "cell_type": "markdown",
   "metadata": {},
   "source": [
    "# Homework 1 (Question 1)"
   ]
  },
  {
   "cell_type": "code",
   "execution_count": 1,
   "metadata": {},
   "outputs": [
    {
     "name": "stdout",
     "output_type": "stream",
     "text": [
      "Requirement already satisfied: pulp in c:\\users\\muntakim\\appdata\\local\\programs\\python\\python38-32\\lib\\site-packages (2.4)\n",
      "Requirement already satisfied: amply>=0.1.2 in c:\\users\\muntakim\\appdata\\local\\programs\\python\\python38-32\\lib\\site-packages (from pulp) (0.1.4)\n",
      "Requirement already satisfied: docutils>=0.3 in c:\\users\\muntakim\\appdata\\local\\programs\\python\\python38-32\\lib\\site-packages (from amply>=0.1.2->pulp) (0.17.1)\n",
      "Requirement already satisfied: pyparsing in c:\\users\\muntakim\\appdata\\local\\programs\\python\\python38-32\\lib\\site-packages (from amply>=0.1.2->pulp) (2.4.7)\n"
     ]
    }
   ],
   "source": [
    "import sys\n",
    "!{sys.executable} -m pip install pulp"
   ]
  },
  {
   "cell_type": "code",
   "execution_count": 2,
   "metadata": {},
   "outputs": [],
   "source": [
    "import pulp\n",
    "from pulp import *"
   ]
  },
  {
   "cell_type": "code",
   "execution_count": 3,
   "metadata": {},
   "outputs": [
    {
     "data": {
      "text/plain": [
       "'\\nLinear Programming Problem 1.0\\n\\nAuthor : Muntakim Rahman 2021\\n'"
      ]
     },
     "execution_count": 3,
     "metadata": {},
     "output_type": "execute_result"
    }
   ],
   "source": [
    "\"\"\"\n",
    "Linear Programming Problem 1.0\n",
    "\n",
    "Author : Muntakim Rahman 2021\n",
    "\"\"\""
   ]
  },
  {
   "cell_type": "markdown",
   "metadata": {},
   "source": [
    "## Linear Programming Problem 1.0\n",
    "\n",
    "\\begin{align*}\n",
    "    {\\rm Minimize} \\hspace{5mm} x_1 - 3x_2 - x_3 \\\\\n",
    "    {\\rm Subject \\hspace{1mm} to} \\hspace{5mm} x_1 + x_2 + x_3 = 3 \\\\\n",
    "                                -x_1 + x_2 \t\\leq 1 \\\\\n",
    "                                x_1 \\geq 0 \\\\\n",
    "                                x_2 {\\hspace{1mm} unconstrained} \\\\\n",
    "                                x_3 \\geq 0 \\\\\n",
    "\\end{align*}"
   ]
  },
  {
   "cell_type": "code",
   "execution_count": 4,
   "metadata": {},
   "outputs": [
    {
     "name": "stdout",
     "output_type": "stream",
     "text": [
      "{'x_1': x_1, 'x_2': x_2, 'x_3': x_3}\n"
     ]
    }
   ],
   "source": [
    "decision_variables = {}\n",
    "for i in range(3) :\n",
    "    decision_variables['x_' + str(i + 1)] = LpVariable(name = 'x_' + str(i + 1), cat = LpContinuous) \n",
    "\n",
    "## Print Decision Variables -> Mainly for Debugging Purposes.\n",
    "print(decision_variables)"
   ]
  },
  {
   "cell_type": "code",
   "execution_count": 5,
   "metadata": {},
   "outputs": [],
   "source": [
    "LP_Prob = LpProblem(name = 'LP_Problem_1.0', sense = LpMinimize)\n",
    "\n",
    "# The Objective Function is Added to 'LP_Prob' First.\n",
    "LP_Prob += decision_variables['x_1'] - 3 * decision_variables['x_2'] - decision_variables['x_3']"
   ]
  },
  {
   "cell_type": "code",
   "execution_count": 6,
   "metadata": {},
   "outputs": [],
   "source": [
    "# The Constraints are Added to 'LP_Prob'\n",
    "LP_Prob += decision_variables['x_1'] + decision_variables['x_2'] + decision_variables['x_3'] == 3\n",
    "LP_Prob += - decision_variables['x_1'] + decision_variables['x_2'] <= 1\n",
    "LP_Prob += decision_variables['x_1'] >= 0\n",
    "LP_Prob += decision_variables['x_3'] >= 0"
   ]
  },
  {
   "cell_type": "code",
   "execution_count": 7,
   "metadata": {},
   "outputs": [
    {
     "name": "stdout",
     "output_type": "stream",
     "text": [
      "LP_Problem_1.0:\n",
      "MINIMIZE\n",
      "1*x_1 + -3*x_2 + -1*x_3 + 0\n",
      "SUBJECT TO\n",
      "_C1: x_1 + x_2 + x_3 = 3\n",
      "\n",
      "_C2: - x_1 + x_2 <= 1\n",
      "\n",
      "_C3: x_1 >= 0\n",
      "\n",
      "_C4: x_3 >= 0\n",
      "\n",
      "VARIABLES\n",
      "x_1 free Continuous\n",
      "x_2 free Continuous\n",
      "x_3 free Continuous\n",
      "\n"
     ]
    }
   ],
   "source": [
    "print(LP_Prob)"
   ]
  },
  {
   "cell_type": "code",
   "execution_count": 8,
   "metadata": {},
   "outputs": [
    {
     "data": {
      "text/plain": [
       "[x_1, x_2, x_3]"
      ]
     },
     "execution_count": 8,
     "metadata": {},
     "output_type": "execute_result"
    }
   ],
   "source": [
    "LP_Prob.writeLP('LP_Problem.lp')"
   ]
  },
  {
   "cell_type": "code",
   "execution_count": 9,
   "metadata": {},
   "outputs": [
    {
     "data": {
      "text/plain": [
       "1"
      ]
     },
     "execution_count": 9,
     "metadata": {},
     "output_type": "execute_result"
    }
   ],
   "source": [
    "# The Problem is Solved Using PuLP's Choice of Solver.\n",
    "LP_Prob.solve()"
   ]
  },
  {
   "cell_type": "code",
   "execution_count": 10,
   "metadata": {},
   "outputs": [
    {
     "name": "stdout",
     "output_type": "stream",
     "text": [
      "Status: Optimal \n",
      "\n",
      "x_1 = 1.0\n",
      "x_2 = 2.0\n",
      "x_3 = 0.0\n",
      "\n",
      "\n",
      "Optimal Value : Z = -5.0\n"
     ]
    }
   ],
   "source": [
    "print(f'Status: {LpStatus[LP_Prob.status]} \\n')\n",
    "\n",
    "for variable in LP_Prob.variables() :\n",
    "    print(f'{variable.name} = {variable.varValue}')\n",
    "print('\\n')\n",
    "\n",
    "if (LpStatus[LP_Prob.status] == 'Optimal') :\n",
    "    print(f'Optimal Value : Z = {value(LP_Prob.objective)}')\n",
    "else :\n",
    "    print(f'No Optimal Value. Status Code : {value(LP_Prob.objective)}')"
   ]
  }
 ],
 "metadata": {
  "kernelspec": {
   "display_name": "Python 3",
   "language": "python",
   "name": "python3"
  },
  "language_info": {
   "codemirror_mode": {
    "name": "ipython",
    "version": 3
   },
   "file_extension": ".py",
   "mimetype": "text/x-python",
   "name": "python",
   "nbconvert_exporter": "python",
   "pygments_lexer": "ipython3",
   "version": "3.8.6"
  },
  "metadata": {
   "interpreter": {
    "hash": "ccbfd18ffe2ed7a304e124dd5c4926bb0ce32d27abc45b5b38cf8edbd938df1a"
   }
  }
 },
 "nbformat": 4,
 "nbformat_minor": 4
}
