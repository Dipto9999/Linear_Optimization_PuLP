{
 "cells": [
  {
   "source": [
    "# Homework 2 (Vanderbei Exercise 1.2)"
   ],
   "cell_type": "markdown",
   "metadata": {}
  },
  {
   "cell_type": "code",
   "execution_count": 14,
   "metadata": {},
   "outputs": [
    {
     "output_type": "stream",
     "name": "stdout",
     "text": [
      "Requirement already satisfied: pulp in c:\\users\\muntakim\\appdata\\local\\programs\\python\\python38-32\\lib\\site-packages (2.4)\nRequirement already satisfied: amply>=0.1.2 in c:\\users\\muntakim\\appdata\\local\\programs\\python\\python38-32\\lib\\site-packages (from pulp) (0.1.4)\nRequirement already satisfied: docutils>=0.3 in c:\\users\\muntakim\\appdata\\local\\programs\\python\\python38-32\\lib\\site-packages (from amply>=0.1.2->pulp) (0.17.1)\nRequirement already satisfied: pyparsing in c:\\users\\muntakim\\appdata\\local\\programs\\python\\python38-32\\lib\\site-packages (from amply>=0.1.2->pulp) (2.4.7)\n"
     ]
    }
   ],
   "source": [
    "import sys\n",
    "!{sys.executable} -m pip install pulp "
   ]
  },
  {
   "cell_type": "code",
   "execution_count": 15,
   "metadata": {},
   "outputs": [],
   "source": [
    "import pulp\n",
    "from pulp import * "
   ]
  },
  {
   "source": [
    "\"\"\"\n",
    "The Airline Revenue Maximization Problem\n",
    "\n",
    "Author: Muntakim Rahman 2020\n",
    "\"\"\""
   ],
   "cell_type": "code",
   "metadata": {},
   "execution_count": 16,
   "outputs": [
    {
     "output_type": "execute_result",
     "data": {
      "text/plain": [
       "'\\nThe Airline Revenue Maximization Problem\\n\\nAuthor: Muntakim Rahman 2020\\n'"
      ]
     },
     "metadata": {},
     "execution_count": 16
    }
   ]
  },
  {
   "source": [
    "## Textbook Problem\n",
    "\n",
    "<img src = \"Vanderbei_Exercise_1.2.JPG\" alt = \"Exercise 1.2 Problem Description\" height = \"500\" width = \"400\"/>"
   ],
   "cell_type": "markdown",
   "metadata": {}
  },
  {
   "source": [
    "### Airline Revenue Maximization Problem\n",
    "\n",
    "\\begin{gather*}\n",
    "    {\\rm Maximize} \\hspace{5mm} \\\\ \n",
    "        \\begin{bmatrix}\n",
    "            300 \\\\\n",
    "            220 \\\\\n",
    "            100 \\\\\n",
    "        \\end{bmatrix}\n",
    "\n",
    "        \\begin{bmatrix} \n",
    "            I-N_{\\hspace{1mm}Y} & I-N_{\\hspace{1mm}B} & I-N_{\\hspace{1mm}M}\n",
    "        \\end{bmatrix} \n",
    "        \n",
    "        + \n",
    "\n",
    "        \\begin{bmatrix}\n",
    "            160 \\\\\n",
    "            130 \\\\\n",
    "            80 \\\\\n",
    "        \\end{bmatrix}\n",
    "\n",
    "        \\begin{bmatrix} \n",
    "            N-B_{\\hspace{1mm}Y} & N-B_{\\hspace{1mm}B} & N-B_{\\hspace{1mm}M}\n",
    "        \\end{bmatrix}\n",
    "\n",
    "        +\n",
    "\n",
    "        \\begin{bmatrix}\n",
    "            360 \\\\\n",
    "            280 \\\\\n",
    "            140 \\\\\n",
    "        \\end{bmatrix}\n",
    "\n",
    "        \\begin{bmatrix} \n",
    "            I-B_{\\hspace{1mm}Y} & I-B_{\\hspace{1mm}B} & I-B_{\\hspace{1mm}M}\n",
    "        \\end{bmatrix}\n",
    "\n",
    "        \\\\\n",
    "\\end{gather*}\n",
    "\n",
    "\\begin{gather*}\n",
    "    {\\rm Subject \\hspace{1mm} to} \\hspace{5mm} \\\\\n",
    "        \\begin{bmatrix} \n",
    "            I-N_{\\hspace{1mm}Y} & I-N_{\\hspace{1mm}B} & I-N_{\\hspace{1mm}M}\n",
    "        \\end{bmatrix} \n",
    "\n",
    "        \\leq\n",
    "\n",
    "        \\begin{bmatrix}\n",
    "            4 & 8 & 22\n",
    "        \\end{bmatrix}   \n",
    "\n",
    "        \\\\ \n",
    "\\end{gather*}\n",
    "\n",
    "<br/>\n",
    "\n",
    "\\begin{gather*}\n",
    "        \\begin{bmatrix} \n",
    "            N-B_{\\hspace{1mm}Y} & N-B_{\\hspace{1mm}B} & N-B_{\\hspace{1mm}M}\n",
    "        \\end{bmatrix}\n",
    "\n",
    "        \\leq\n",
    "\n",
    "        \\begin{bmatrix}\n",
    "            8 & 13 & 20\n",
    "        \\end{bmatrix}   \n",
    "\n",
    "        \\\\ \n",
    "\\end{gather*}\n",
    "\n",
    "<br/>\n",
    "\n",
    "\\begin{gather*}\n",
    "        \\begin{bmatrix} \n",
    "            I-B_{\\hspace{1mm}Y} & I-B_{\\hspace{1mm}B} & I-B_{\\hspace{1mm}M}\n",
    "        \\end{bmatrix}\n",
    "\n",
    "        \\leq\n",
    "\n",
    "        \\begin{bmatrix}\n",
    "            3 & 10 & 18\n",
    "        \\end{bmatrix}   \n",
    "\n",
    "        \\\\ \n",
    "\\end{gather*}\n",
    "\n",
    "<br/>\n",
    "\n",
    "\\begin{gather*}\n",
    "        \\begin{bmatrix} \n",
    "            I-N_{\\hspace{1mm}Y} & I-N_{\\hspace{1mm}B} & I-N_{\\hspace{1mm}M}\n",
    "        \\end{bmatrix} \n",
    "\n",
    "        +\n",
    "\n",
    "        \\begin{bmatrix} \n",
    "            I-B_{\\hspace{1mm}Y} & I-B_{\\hspace{1mm}B} & I-B_{\\hspace{1mm}M}\n",
    "        \\end{bmatrix}\n",
    "\n",
    "        \\leq 30 \\\\\n",
    "\\end{gather*}\n",
    "\n",
    "<br/>\n",
    "\n",
    "\\begin{gather*}\n",
    "        \\begin{bmatrix} \n",
    "            N-B_{\\hspace{1mm}Y} & N-B_{\\hspace{1mm}B} & N-B_{\\hspace{1mm}M}\n",
    "        \\end{bmatrix} \n",
    "\n",
    "        +\n",
    "\n",
    "        \\begin{bmatrix} \n",
    "            I-B_{\\hspace{1mm}Y} & I-B_{\\hspace{1mm}B} & I-B_{\\hspace{1mm}M}\n",
    "        \\end{bmatrix}\n",
    "\n",
    "        \\leq 30 \\\\\n",
    "\\end{gather*}\n",
    "        \n",
    "<br/>\n",
    "\n",
    "\\begin{gather*}\n",
    "        \\begin{bmatrix} \n",
    "            I-N_{\\hspace{1mm}Y} & I-N_{\\hspace{1mm}B} & I-N_{\\hspace{1mm}M}\n",
    "        \\end{bmatrix} , \n",
    "\n",
    "        \\quad \n",
    "\n",
    "        \\begin{bmatrix} \n",
    "            N-B_{\\hspace{1mm}Y} & N-B_{\\hspace{1mm}B} & N-B_{\\hspace{1mm}M}\n",
    "        \\end{bmatrix},\n",
    "\n",
    "        \\quad\n",
    "\n",
    "        \\begin{bmatrix} \n",
    "            I-B_{\\hspace{1mm}Y} & I-B_{\\hspace{1mm}B} & I-B_{\\hspace{1mm}M}\n",
    "        \\end{bmatrix}\n",
    "\n",
    "        \\quad\n",
    "\n",
    "        \\geq \n",
    "\n",
    "        \\begin{bmatrix}\n",
    "            0 & 0 & 0\n",
    "        \\end{bmatrix}\n",
    "\n",
    "        \\\\ \n",
    "\\end{gather*}\n"
   ],
   "cell_type": "markdown",
   "metadata": {}
  },
  {
   "cell_type": "code",
   "execution_count": 17,
   "metadata": {},
   "outputs": [],
   "source": [
    "# Creates Lists of the Fare-Class Combinations for each Origin/Destination.\n",
    "labels_IN = ['Ithaca-Newark_Y', 'Ithaca-Newark_B', 'Ithaca-Newark_M'] \n",
    "labels_NB = ['Newark-Boston_Y', 'Newark-Boston_B', 'Newark-Boston_M'] \n",
    "labels_IB = ['Ithaca-Boston_Y', 'Ithaca-Boston_B', 'Ithaca-Boston_M']   \n",
    "\n",
    "# Creates Lists of the Ticket Prices for each Origin/Destination.\n",
    "ticket_prices_IN = [300, 220, 100]\n",
    "ticket_prices_NB = [160, 130, 80]\n",
    "ticket_prices_IB = [360, 280, 140]  \n",
    "\n",
    "# Creates Lists of the Forecasted Demand Bounds for each Origin/Destination.\n",
    "potential_customers_IN = [4, 8, 22]  \n",
    "potential_customers_NB = [8, 13, 20]\n",
    "potential_customers_IB = [3, 10, 18]  \n",
    "\n",
    "# Initialize Variables for Constraints.\n",
    "max_passengers = 30\n",
    "number_of_origin_destination_combinations = 3"
   ]
  },
  {
   "cell_type": "code",
   "execution_count": 18,
   "metadata": {},
   "outputs": [],
   "source": [
    "# Create the 'LP_Prob' Variable to Contain the Problem Data for the LP Maximization Problem.\n",
    "LP_Prob = LpProblem(\"Ivy_Air_Problem\", LpMaximize)"
   ]
  },
  {
   "cell_type": "code",
   "execution_count": 19,
   "metadata": {},
   "outputs": [],
   "source": [
    "# Create Lists of Empty Strings to Contain the Referenced Variables.\n",
    "tickets_IN = ['', '', '']\n",
    "tickets_NB = ['', '', '']\n",
    "tickets_IB = ['', '', '']\n",
    "\n",
    "# Create Decision Variables.\n",
    "for i in range(number_of_origin_destination_combinations) :    \n",
    "    tickets_IN[i] = LpVariable(name = str(labels_IN[i]), lowBound = 0, cat = 'Integer')\n",
    "    tickets_NB[i] = LpVariable(name = str(labels_NB[i]), lowBound = 0, cat = 'Integer')\n",
    "    tickets_IB[i] = LpVariable(name = str(labels_IB[i]), lowBound = 0, cat = 'Integer')"
   ]
  },
  {
   "cell_type": "code",
   "execution_count": 20,
   "metadata": {},
   "outputs": [
    {
     "output_type": "stream",
     "name": "stdout",
     "text": [
      "[Ithaca_Newark_Y, Ithaca_Newark_B, Ithaca_Newark_M]\n[Newark_Boston_Y, Newark_Boston_B, Newark_Boston_M]\n[Ithaca_Boston_Y, Ithaca_Boston_B, Ithaca_Boston_M]\n"
     ]
    }
   ],
   "source": [
    "## Print Lists of Different Tickets -> Mainly for Debugging Purposes.\n",
    "print(tickets_IN)\n",
    "print(tickets_NB)\n",
    "print(tickets_IB)"
   ]
  },
  {
   "cell_type": "code",
   "execution_count": 21,
   "metadata": {},
   "outputs": [
    {
     "output_type": "stream",
     "name": "stdout",
     "text": [
      "Objective Function Coefficients for IN : 220*Ithaca_Newark_B + 100*Ithaca_Newark_M + 300*Ithaca_Newark_Y\nObjective Function Coefficients for NB : 130*Newark_Boston_B + 80*Newark_Boston_M + 160*Newark_Boston_Y\nObjective Function Coefficients for IB : 280*Ithaca_Boston_B + 140*Ithaca_Boston_M + 360*Ithaca_Boston_Y\n"
     ]
    }
   ],
   "source": [
    "Prob_IN = lpSum([ticket_prices_IN[i] * tickets_IN[i] for i in range(number_of_origin_destination_combinations)])\n",
    "Prob_NB = lpSum([ticket_prices_NB[i] * tickets_NB[i] for i in range(number_of_origin_destination_combinations)])\n",
    "Prob_IB = lpSum([ticket_prices_IB[i] * tickets_IB[i] for i in range(number_of_origin_destination_combinations)])\n",
    "\n",
    "## Print Lists of Different Tickets -> Mainly for Debugging Purposes.\n",
    "print(f'Objective Function Coefficients for IN : {Prob_IN}')\n",
    "print(f'Objective Function Coefficients for NB : {Prob_NB}')\n",
    "print(f'Objective Function Coefficients for IB : {Prob_IB}')\n",
    "\n",
    "# The Objective Function is Added to 'LP_Prob' First.\n",
    "LP_Prob += Prob_IN + Prob_NB + Prob_IB, 'Total_Revenue_of_Ivy_Air' "
   ]
  },
  {
   "cell_type": "code",
   "execution_count": 22,
   "metadata": {},
   "outputs": [],
   "source": [
    "passengers_IN = lpSum([tickets_IN[i] for i in range(number_of_origin_destination_combinations)])\n",
    "passengers_IB = lpSum([tickets_IB[i] for i in range(number_of_origin_destination_combinations)])\n",
    "passengers_NB = lpSum([tickets_NB[i] for i in range(number_of_origin_destination_combinations)])\n",
    "\n",
    "# The Constraints are Added to 'LP_Prob'\n",
    "LP_Prob += passengers_IN + passengers_IB <= max_passengers, 'Seating_Limit_1'\n",
    "LP_Prob += passengers_NB + passengers_IB <= max_passengers, 'Seating_Limit_2'\n",
    "\n",
    "customers_constraint = '_Potential_Customers'\n",
    "for i in range(number_of_origin_destination_combinations) :\n",
    "    LP_Prob += tickets_IN[i] <= potential_customers_IN[i], str(labels_IN[i]) + customers_constraint\n",
    "    LP_Prob += tickets_NB[i] <= potential_customers_NB[i], str(labels_NB[i]) + customers_constraint\n",
    "    LP_Prob += tickets_IB[i] <= potential_customers_IB[i], str(labels_IB[i]) + customers_constraint"
   ]
  },
  {
   "cell_type": "code",
   "execution_count": 23,
   "metadata": {},
   "outputs": [
    {
     "output_type": "stream",
     "name": "stdout",
     "text": [
      "Ivy_Air_Problem:\nMAXIMIZE\n280*Ithaca_Boston_B + 140*Ithaca_Boston_M + 360*Ithaca_Boston_Y + 220*Ithaca_Newark_B + 100*Ithaca_Newark_M + 300*Ithaca_Newark_Y + 130*Newark_Boston_B + 80*Newark_Boston_M + 160*Newark_Boston_Y + 0\nSUBJECT TO\nSeating_Limit_1: Ithaca_Boston_B + Ithaca_Boston_M + Ithaca_Boston_Y\n + Ithaca_Newark_B + Ithaca_Newark_M + Ithaca_Newark_Y <= 30\n\nSeating_Limit_2: Ithaca_Boston_B + Ithaca_Boston_M + Ithaca_Boston_Y\n + Newark_Boston_B + Newark_Boston_M + Newark_Boston_Y <= 30\n\nIthaca_Newark_Y_Potential_Customers: Ithaca_Newark_Y <= 4\n\nNewark_Boston_Y_Potential_Customers: Newark_Boston_Y <= 8\n\nIthaca_Boston_Y_Potential_Customers: Ithaca_Boston_Y <= 3\n\nIthaca_Newark_B_Potential_Customers: Ithaca_Newark_B <= 8\n\nNewark_Boston_B_Potential_Customers: Newark_Boston_B <= 13\n\nIthaca_Boston_B_Potential_Customers: Ithaca_Boston_B <= 10\n\nIthaca_Newark_M_Potential_Customers: Ithaca_Newark_M <= 22\n\nNewark_Boston_M_Potential_Customers: Newark_Boston_M <= 20\n\nIthaca_Boston_M_Potential_Customers: Ithaca_Boston_M <= 18\n\nVARIABLES\n0 <= Ithaca_Boston_B Integer\n0 <= Ithaca_Boston_M Integer\n0 <= Ithaca_Boston_Y Integer\n0 <= Ithaca_Newark_B Integer\n0 <= Ithaca_Newark_M Integer\n0 <= Ithaca_Newark_Y Integer\n0 <= Newark_Boston_B Integer\n0 <= Newark_Boston_M Integer\n0 <= Newark_Boston_Y Integer\n\n"
     ]
    }
   ],
   "source": [
    "print(LP_Prob)"
   ]
  },
  {
   "cell_type": "code",
   "execution_count": 24,
   "metadata": {},
   "outputs": [
    {
     "output_type": "execute_result",
     "data": {
      "text/plain": [
       "[Ithaca_Boston_B,\n",
       " Ithaca_Boston_M,\n",
       " Ithaca_Boston_Y,\n",
       " Ithaca_Newark_B,\n",
       " Ithaca_Newark_M,\n",
       " Ithaca_Newark_Y,\n",
       " Newark_Boston_B,\n",
       " Newark_Boston_M,\n",
       " Newark_Boston_Y]"
      ]
     },
     "metadata": {},
     "execution_count": 24
    }
   ],
   "source": [
    "LP_Prob.writeLP('IvyAirModel.lp')"
   ]
  },
  {
   "cell_type": "code",
   "execution_count": 25,
   "metadata": {},
   "outputs": [
    {
     "output_type": "execute_result",
     "data": {
      "text/plain": [
       "1"
      ]
     },
     "metadata": {},
     "execution_count": 25
    }
   ],
   "source": [
    "# The Problem is Solved Using PuLP's Choice of Solver.\n",
    "LP_Prob.solve()"
   ]
  },
  {
   "cell_type": "code",
   "execution_count": 26,
   "metadata": {},
   "outputs": [
    {
     "output_type": "stream",
     "name": "stdout",
     "text": [
      "Status: Optimal \n\nIthaca_Boston_B = 10.0\nIthaca_Boston_M = 0.0\nIthaca_Boston_Y = 3.0\n\n\nIthaca_Newark_B = 8.0\nIthaca_Newark_M = 5.0\nIthaca_Newark_Y = 4.0\n\n\nNewark_Boston_B = 9.0\nNewark_Boston_M = 0.0\nNewark_Boston_Y = 8.0\n\n\nOptimal Value : Z = 9790.0\n"
     ]
    }
   ],
   "source": [
    "current_flight_classes = 0\n",
    "\n",
    "print(f'Status: {LpStatus[LP_Prob.status]} \\n')\n",
    "\n",
    "for variable in LP_Prob.variables() :\n",
    "    print(f'{variable.name} = {variable.varValue}')\n",
    "\n",
    "    current_flight_classes += 1\n",
    "    if (current_flight_classes == len(labels_IN)) :\n",
    "        current_flight_classes = 0\n",
    "        print('\\n')\n",
    "if (LpStatus[LP_Prob.status] == 'Optimal') :\n",
    "    print(f'Optimal Value : Z = {value(LP_Prob.objective)}')\n",
    "else :\n",
    "    print(f'No Optimal Value. Status Code : {value(LP_Prob.objective)}')"
   ]
  }
 ],
 "metadata": {
  "kernelspec": {
   "name": "python386jvsc74a57bd0ccbfd18ffe2ed7a304e124dd5c4926bb0ce32d27abc45b5b38cf8edbd938df1a",
   "display_name": "Python 3.8.6 32-bit"
  },
  "language_info": {
   "codemirror_mode": {
    "name": "ipython",
    "version": 3
   },
   "file_extension": ".py",
   "mimetype": "text/x-python",
   "name": "python",
   "nbconvert_exporter": "python",
   "pygments_lexer": "ipython3",
   "version": "3.8.6"
  },
  "metadata": {
   "interpreter": {
    "hash": "ccbfd18ffe2ed7a304e124dd5c4926bb0ce32d27abc45b5b38cf8edbd938df1a"
   }
  }
 },
 "nbformat": 4,
 "nbformat_minor": 4
}