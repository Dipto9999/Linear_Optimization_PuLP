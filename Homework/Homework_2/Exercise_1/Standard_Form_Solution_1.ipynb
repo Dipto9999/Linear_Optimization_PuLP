{
 "cells": [
  {
   "cell_type": "markdown",
   "metadata": {},
   "source": [
    "# Homework 2 (Vanderbei Exercise 1.1 : Standard Form)"
   ]
  },
  {
   "cell_type": "code",
   "execution_count": 1,
   "metadata": {},
   "outputs": [
    {
     "name": "stdout",
     "output_type": "stream",
     "text": [
      "Requirement already satisfied: pulp in c:\\users\\muntakim\\appdata\\local\\programs\\python\\python38-32\\lib\\site-packages (2.4)\n",
      "Requirement already satisfied: amply>=0.1.2 in c:\\users\\muntakim\\appdata\\local\\programs\\python\\python38-32\\lib\\site-packages (from pulp) (0.1.4)\n",
      "Requirement already satisfied: pyparsing in c:\\users\\muntakim\\appdata\\local\\programs\\python\\python38-32\\lib\\site-packages (from amply>=0.1.2->pulp) (2.4.7)\n",
      "Requirement already satisfied: docutils>=0.3 in c:\\users\\muntakim\\appdata\\local\\programs\\python\\python38-32\\lib\\site-packages (from amply>=0.1.2->pulp) (0.17.1)\n"
     ]
    }
   ],
   "source": [
    "import sys\n",
    "!{sys.executable} -m pip install pulp"
   ]
  },
  {
   "cell_type": "code",
   "execution_count": 2,
   "metadata": {},
   "outputs": [],
   "source": [
    "import pulp\n",
    "from pulp import *"
   ]
  },
  {
   "cell_type": "code",
   "execution_count": 3,
   "metadata": {},
   "outputs": [
    {
     "data": {
      "text/plain": [
       "'\\nThe Steel Company Band and Coil Production Problem (Standard Form)\\n\\nAuthor: Muntakim Rahman 2020\\n'"
      ]
     },
     "execution_count": 3,
     "metadata": {},
     "output_type": "execute_result"
    }
   ],
   "source": [
    "\"\"\"\n",
    "The Steel Company Band and Coil Production Problem (Standard Form)\n",
    "\n",
    "Author: Muntakim Rahman 2020\n",
    "\"\"\""
   ]
  },
  {
   "cell_type": "markdown",
   "metadata": {},
   "source": [
    "## Textbook Problem\n",
    "\n",
    "<img src = \"Vanderbei_Exercise_1.1.JPG\" alt = \"Exercise 1.1 Problem Description\" height = \"400\" width = \"350\"/>"
   ]
  },
  {
   "cell_type": "markdown",
   "metadata": {},
   "source": [
    "## Steel Company Band and Coil Production Problem\n",
    "\n",
    "\\begin{align*}\n",
    "    {\\rm Maximize} \\hspace{3mm} 25 * bands + 30 * coils \\\\\n",
    "    {\\rm Subject \\hspace{1mm} to} \\hspace{3mm} 140 * bands + 200 * coils = 40 * 200 * 140 \\\\\n",
    "                                0 \\leq bands \\leq 6000 \\\\\n",
    "                                0 \\leq coils \\leq 4000 \\\\\n",
    "\\end{align*}\n",
    "\n",
    "### Standard Inequality Form\n",
    "\n",
    "\\begin{align*}\n",
    "    {\\rm Maximize} \\hspace{3mm} -25 * bands - 30 * coils \\\\\n",
    "    {\\rm Subject \\hspace{1mm} to} \\hspace{3mm} -7 * bands - 10 * coils \\leq -26000 \\\\\n",
    "                                7 * bands + 10 * coils \\leq 26000 \\\\\n",
    "                                bands \\geq 0 \\\\\n",
    "                                coils \\geq 0 \\\\\n",
    "\\end{align*}"
   ]
  },
  {
   "cell_type": "code",
   "execution_count": 4,
   "metadata": {},
   "outputs": [],
   "source": [
    "# Create a LP Maximization Problem.\n",
    "LP_Prob_St = LpProblem('Steel_Company_Problem_St', LpMaximize)"
   ]
  },
  {
   "cell_type": "code",
   "execution_count": 5,
   "metadata": {},
   "outputs": [],
   "source": [
    "# Create Prime Decision Variables.\n",
    "bands__ = LpVariable(name = 'bands__', lowBound = 0)\n",
    "coils__ = LpVariable(name = 'coils__', lowBound = 0)"
   ]
  },
  {
   "cell_type": "code",
   "execution_count": 6,
   "metadata": {},
   "outputs": [],
   "source": [
    "# Add Objective Function to LP Problem.\n",
    "LP_Prob_St += -25 * bands__ - 30 * coils__\n",
    "\n",
    "# Now Add Constraints.\n",
    "LP_Prob_St += -7 * bands__ - 10 * coils__ <= -26000\n",
    "LP_Prob_St += 7 * bands__ + 10 * coils__ <= 26000\n",
    "LP_Prob_St += bands__ >= 0\n",
    "LP_Prob_St += coils__ >= 0"
   ]
  },
  {
   "cell_type": "code",
   "execution_count": 7,
   "metadata": {},
   "outputs": [
    {
     "name": "stdout",
     "output_type": "stream",
     "text": [
      "Steel_Company_Problem_St:\n",
      "MAXIMIZE\n",
      "-25*bands__ + -30*coils__ + 0\n",
      "SUBJECT TO\n",
      "_C1: - 7 bands__ - 10 coils__ <= -26000\n",
      "\n",
      "_C2: 7 bands__ + 10 coils__ <= 26000\n",
      "\n",
      "_C3: bands__ >= 0\n",
      "\n",
      "_C4: coils__ >= 0\n",
      "\n",
      "VARIABLES\n",
      "bands__ Continuous\n",
      "coils__ Continuous\n",
      "\n"
     ]
    }
   ],
   "source": [
    "# Write the LP Problem to a File.\n",
    "LP_Prob_St.writeLP('SteelCompanyProblemStandardForm.lp')\n",
    "\n",
    "# Display the LP Problem.\n",
    "print(LP_Prob_St)"
   ]
  },
  {
   "cell_type": "code",
   "execution_count": 8,
   "metadata": {},
   "outputs": [
    {
     "data": {
      "text/plain": [
       "1"
      ]
     },
     "execution_count": 8,
     "metadata": {},
     "output_type": "execute_result"
    }
   ],
   "source": [
    "LP_Prob_St.solve()"
   ]
  },
  {
   "cell_type": "code",
   "execution_count": 9,
   "metadata": {},
   "outputs": [
    {
     "name": "stdout",
     "output_type": "stream",
     "text": [
      "Status: Optimal\n",
      "\n",
      "bands__ = 0.0\n",
      "coils__ = 2600.0\n",
      "Optimal Value : z = -78000.0\n"
     ]
    }
   ],
   "source": [
    "print(f'Status: {LpStatus[LP_Prob_St.status]}\\n')\n",
    "\n",
    "decision_variables__ = {}\n",
    "for variable in LP_Prob_St.variables() :\n",
    "    print(f'{variable.name} = {variable.varValue}')\n",
    "    decision_variables__[variable.name] = variable.varValue\n",
    "if (LpStatus[LP_Prob_St.status] == 'Optimal') :\n",
    "    print(f'Optimal Value : z = {value(LP_Prob_St.objective)}')\n",
    "else :\n",
    "    print(f'No Optimal Value. Status Code : {value(LP_Prob_St.objective)}')"
   ]
  },
  {
   "cell_type": "code",
   "execution_count": 10,
   "metadata": {},
   "outputs": [
    {
     "name": "stdout",
     "output_type": "stream",
     "text": [
      "Prime Decision Variables :  {'bands__': 0.0, 'coils__': 2600.0}\n"
     ]
    }
   ],
   "source": [
    "print('Prime Decision Variables : ', str(decision_variables__))"
   ]
  },
  {
   "cell_type": "code",
   "execution_count": 11,
   "metadata": {},
   "outputs": [],
   "source": [
    "bands = 6000 - decision_variables__['bands__']\n",
    "coils = 4000 - decision_variables__['coils__']"
   ]
  },
  {
   "cell_type": "code",
   "execution_count": 12,
   "metadata": {},
   "outputs": [
    {
     "name": "stdout",
     "output_type": "stream",
     "text": [
      "Bands from Original Problem = 6000.0\n",
      "Coils from Original Problem = 1400.0\n"
     ]
    }
   ],
   "source": [
    "print(f'Bands from Original Problem = {bands}')\n",
    "print(f'Coils from Original Problem = {coils}')"
   ]
  }
 ],
 "metadata": {
  "kernelspec": {
   "display_name": "Python 3",
   "language": "python",
   "name": "python3"
  },
  "language_info": {
   "codemirror_mode": {
    "name": "ipython",
    "version": 3
   },
   "file_extension": ".py",
   "mimetype": "text/x-python",
   "name": "python",
   "nbconvert_exporter": "python",
   "pygments_lexer": "ipython3",
   "version": "3.8.6"
  },
  "metadata": {
   "interpreter": {
    "hash": "ccbfd18ffe2ed7a304e124dd5c4926bb0ce32d27abc45b5b38cf8edbd938df1a"
   }
  }
 },
 "nbformat": 4,
 "nbformat_minor": 4
}
