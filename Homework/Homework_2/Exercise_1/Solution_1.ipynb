{
 "cells": [
  {
   "cell_type": "markdown",
   "metadata": {},
   "source": [
    "# Homework 2 (Vanderbei Exercise 1.1)"
   ]
  },
  {
   "cell_type": "code",
   "execution_count": null,
   "metadata": {},
   "outputs": [],
   "source": [
    "import sys\n",
    "!{sys.executable} -m pip install pulp "
   ]
  },
  {
   "cell_type": "code",
   "execution_count": null,
   "metadata": {},
   "outputs": [],
   "source": [
    "import pulp\n",
    "from pulp import *"
   ]
  },
  {
   "cell_type": "code",
   "execution_count": null,
   "metadata": {},
   "outputs": [],
   "source": [
    "\"\"\"\n",
    "The Steel Company Band and Coil Production Problem\n",
    "\n",
    "Author: Muntakim Rahman 2020\n",
    "\"\"\""
   ]
  },
  {
   "cell_type": "markdown",
   "metadata": {},
   "source": [
    "## Textbook Problem\n",
    "\n",
    "<img src = \"Vanderbei_Exercise_1.1.JPG\" alt = \"Exercise 1.1 Problem Description\" height = \"400\" width = \"350\"/>"
   ]
  },
  {
   "cell_type": "markdown",
   "metadata": {},
   "source": [
    "## Steel Company Band and Coil Production Problem\n",
    "\n",
    "\\begin{align*}\n",
    "    {\\rm Maximize} \\hspace{3mm} 25 * bands + 30 * coils \\\\\n",
    "    {\\rm Subject \\hspace{1mm} to} \\hspace{3mm} 140 * bands + 200 * coils = 40 * 200 * 140 \\\\\n",
    "                                0 \\leq bands \\leq 6000 \\\\\n",
    "                                0 \\leq coils \\leq 4000 \\\\\n",
    "\\end{align*}"
   ]
  },
  {
   "cell_type": "code",
   "execution_count": null,
   "metadata": {},
   "outputs": [],
   "source": []
  },
  {
   "cell_type": "code",
   "execution_count": null,
   "metadata": {},
   "outputs": [],
   "source": [
    "# Create a LP Maximization Problem.\n",
    "LP_Prob = LpProblem('Steel_Company_Problem', LpMaximize)"
   ]
  },
  {
   "cell_type": "code",
   "execution_count": null,
   "metadata": {},
   "outputs": [],
   "source": [
    "# Create Decision Variables.\n",
    "bands = pulp.LpVariable(name = 'bands', lowBound = 0, upBound = 6000)\n",
    "coils = pulp.LpVariable(name = 'coils', lowBound = 0, upBound = 4000)"
   ]
  },
  {
   "cell_type": "code",
   "execution_count": null,
   "metadata": {},
   "outputs": [],
   "source": [
    "# Add Objective Function to LP Problem.\n",
    "LP_Prob += 25 * bands + 30 * coils, 'Total_Profit'\n",
    "\n",
    "# Now Add Constraints.\n",
    "LP_Prob += 140 * bands + 200 * coils == 40 * 200 * 140\n",
    "LP_Prob += bands <= 6000, 'Upper_Limit_Bands'\n",
    "LP_Prob += coils <= 4000, 'Upper_Limit_Coils'"
   ]
  },
  {
   "cell_type": "code",
   "execution_count": null,
   "metadata": {},
   "outputs": [],
   "source": [
    "# Write the LP Problem to a File.\n",
    "LP_Prob.writeLP('SteelCompanyProblem.lp')\n",
    "\n",
    "# Display the LP Problem.\n",
    "print(LP_Prob)"
   ]
  },
  {
   "cell_type": "code",
   "execution_count": null,
   "metadata": {},
   "outputs": [],
   "source": [
    "LP_Prob.solve()"
   ]
  },
  {
   "cell_type": "code",
   "execution_count": null,
   "metadata": {},
   "outputs": [],
   "source": [
    "print(f'Status: {LpStatus[LP_Prob.status]}\\n')\n",
    "\n",
    "for variable in LP_Prob.variables() :\n",
    "    print(f'{variable.name} =  {variable.varValue}')\n",
    "if (LpStatus[LP_Prob.status] == 'Optimal') :\n",
    "    print(f'Optimal Value : Z = {value(LP_Prob.objective)}')\n",
    "else :\n",
    "    print(f'No Optimal Value. Status Code : {value(LP_Prob.objective)}')"
   ]
  }
 ],
 "metadata": {
  "kernelspec": {
   "display_name": "Python 3",
   "language": "python",
   "name": "python3"
  },
  "language_info": {
   "codemirror_mode": {
    "name": "ipython",
    "version": 3
   },
   "file_extension": ".py",
   "mimetype": "text/x-python",
   "name": "python",
   "nbconvert_exporter": "python",
   "pygments_lexer": "ipython3",
   "version": "3.8.6"
  },
  "metadata": {
   "interpreter": {
    "hash": "ccbfd18ffe2ed7a304e124dd5c4926bb0ce32d27abc45b5b38cf8edbd938df1a"
   }
  }
 },
 "nbformat": 4,
 "nbformat_minor": 4
}
